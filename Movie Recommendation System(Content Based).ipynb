{
 "cells": [
  {
   "cell_type": "markdown",
   "metadata": {},
   "source": [
    "MOVIE RECOMENDATION SYSTEM CONTENT BASED\n",
    "Recommender System is a system that seeks to predict or filter preferences according to the user’s choices. Recommender systems are utilized in a variety of areas including movies, music, news, books, research articles, search queries, social tags, and products in general.Recommender systems produce a list of recommendations in any of the two ways\n",
    "\n",
    "Collaborative filtering: Collaborative filtering approaches build a model from user’s past behavior (i.e. items purchased or searched by the user) as well as similar decisions made by other users. This model is then used to predict items (or ratings for items) that user may have an interest in.\n",
    "\n",
    "Content-based filtering: Content-based filtering approaches uses a series of discrete characteristics of an item in order to recommend additional items with similar properties. Content-based filtering methods are totally based on a description of the item and a profile of the user’s preferences. It recommends items based on user’s past preferences.\n",
    "\n",
    "In This project we are predicting the movie to the user using Content-Based filtering. I have imported the dataset of HOLLYWOOD movies.\n",
    "\n",
    "Importing the necessary libraries."
   ]
  },
  {
   "cell_type": "code",
   "execution_count": 2,
   "metadata": {},
   "outputs": [],
   "source": [
    "import pandas as pd\n",
    "import numpy as np\n",
    "import warnings\n",
    "warnings.filterwarnings('ignore')\n",
    "from sklearn.feature_extraction.text import CountVectorizer\n",
    "from sklearn.metrics.pairwise import cosine_similarity\n",
    "from scipy import sparse\n",
    "df=pd.read_csv(\"movie_dataset.csv\")\n",
    "import matplotlib.pyplot as plt\n",
    "import seaborn as sns\n",
    "#df=pd.read_csv(\"movie_dataset.csv\",usecols=['keywords','cast','genres','director'])"
   ]
  },
  {
   "cell_type": "code",
   "execution_count": 3,
   "metadata": {},
   "outputs": [
    {
     "data": {
      "text/html": [
       "<div>\n",
       "<style scoped>\n",
       "    .dataframe tbody tr th:only-of-type {\n",
       "        vertical-align: middle;\n",
       "    }\n",
       "\n",
       "    .dataframe tbody tr th {\n",
       "        vertical-align: top;\n",
       "    }\n",
       "\n",
       "    .dataframe thead th {\n",
       "        text-align: right;\n",
       "    }\n",
       "</style>\n",
       "<table border=\"1\" class=\"dataframe\">\n",
       "  <thead>\n",
       "    <tr style=\"text-align: right;\">\n",
       "      <th></th>\n",
       "      <th>index</th>\n",
       "      <th>budget</th>\n",
       "      <th>genres</th>\n",
       "      <th>homepage</th>\n",
       "      <th>id</th>\n",
       "      <th>keywords</th>\n",
       "      <th>original_language</th>\n",
       "      <th>original_title</th>\n",
       "      <th>overview</th>\n",
       "      <th>popularity</th>\n",
       "      <th>...</th>\n",
       "      <th>runtime</th>\n",
       "      <th>spoken_languages</th>\n",
       "      <th>status</th>\n",
       "      <th>tagline</th>\n",
       "      <th>title</th>\n",
       "      <th>vote_average</th>\n",
       "      <th>vote_count</th>\n",
       "      <th>cast</th>\n",
       "      <th>crew</th>\n",
       "      <th>director</th>\n",
       "    </tr>\n",
       "  </thead>\n",
       "  <tbody>\n",
       "    <tr>\n",
       "      <th>0</th>\n",
       "      <td>0</td>\n",
       "      <td>237000000</td>\n",
       "      <td>Action Adventure Fantasy Science Fiction</td>\n",
       "      <td>http://www.avatarmovie.com/</td>\n",
       "      <td>19995</td>\n",
       "      <td>culture clash future space war space colony so...</td>\n",
       "      <td>en</td>\n",
       "      <td>Avatar</td>\n",
       "      <td>In the 22nd century, a paraplegic Marine is di...</td>\n",
       "      <td>150.437577</td>\n",
       "      <td>...</td>\n",
       "      <td>162.0</td>\n",
       "      <td>[{\"iso_639_1\": \"en\", \"name\": \"English\"}, {\"iso...</td>\n",
       "      <td>Released</td>\n",
       "      <td>Enter the World of Pandora.</td>\n",
       "      <td>Avatar</td>\n",
       "      <td>7.2</td>\n",
       "      <td>11800</td>\n",
       "      <td>Sam Worthington Zoe Saldana Sigourney Weaver S...</td>\n",
       "      <td>[{'name': 'Stephen E. Rivkin', 'gender': 0, 'd...</td>\n",
       "      <td>James Cameron</td>\n",
       "    </tr>\n",
       "    <tr>\n",
       "      <th>1</th>\n",
       "      <td>1</td>\n",
       "      <td>300000000</td>\n",
       "      <td>Adventure Fantasy Action</td>\n",
       "      <td>http://disney.go.com/disneypictures/pirates/</td>\n",
       "      <td>285</td>\n",
       "      <td>ocean drug abuse exotic island east india trad...</td>\n",
       "      <td>en</td>\n",
       "      <td>Pirates of the Caribbean: At World's End</td>\n",
       "      <td>Captain Barbossa, long believed to be dead, ha...</td>\n",
       "      <td>139.082615</td>\n",
       "      <td>...</td>\n",
       "      <td>169.0</td>\n",
       "      <td>[{\"iso_639_1\": \"en\", \"name\": \"English\"}]</td>\n",
       "      <td>Released</td>\n",
       "      <td>At the end of the world, the adventure begins.</td>\n",
       "      <td>Pirates of the Caribbean: At World's End</td>\n",
       "      <td>6.9</td>\n",
       "      <td>4500</td>\n",
       "      <td>Johnny Depp Orlando Bloom Keira Knightley Stel...</td>\n",
       "      <td>[{'name': 'Dariusz Wolski', 'gender': 2, 'depa...</td>\n",
       "      <td>Gore Verbinski</td>\n",
       "    </tr>\n",
       "    <tr>\n",
       "      <th>2</th>\n",
       "      <td>2</td>\n",
       "      <td>245000000</td>\n",
       "      <td>Action Adventure Crime</td>\n",
       "      <td>http://www.sonypictures.com/movies/spectre/</td>\n",
       "      <td>206647</td>\n",
       "      <td>spy based on novel secret agent sequel mi6</td>\n",
       "      <td>en</td>\n",
       "      <td>Spectre</td>\n",
       "      <td>A cryptic message from Bond’s past sends him o...</td>\n",
       "      <td>107.376788</td>\n",
       "      <td>...</td>\n",
       "      <td>148.0</td>\n",
       "      <td>[{\"iso_639_1\": \"fr\", \"name\": \"Fran\\u00e7ais\"},...</td>\n",
       "      <td>Released</td>\n",
       "      <td>A Plan No One Escapes</td>\n",
       "      <td>Spectre</td>\n",
       "      <td>6.3</td>\n",
       "      <td>4466</td>\n",
       "      <td>Daniel Craig Christoph Waltz L\\u00e9a Seydoux ...</td>\n",
       "      <td>[{'name': 'Thomas Newman', 'gender': 2, 'depar...</td>\n",
       "      <td>Sam Mendes</td>\n",
       "    </tr>\n",
       "    <tr>\n",
       "      <th>3</th>\n",
       "      <td>3</td>\n",
       "      <td>250000000</td>\n",
       "      <td>Action Crime Drama Thriller</td>\n",
       "      <td>http://www.thedarkknightrises.com/</td>\n",
       "      <td>49026</td>\n",
       "      <td>dc comics crime fighter terrorist secret ident...</td>\n",
       "      <td>en</td>\n",
       "      <td>The Dark Knight Rises</td>\n",
       "      <td>Following the death of District Attorney Harve...</td>\n",
       "      <td>112.312950</td>\n",
       "      <td>...</td>\n",
       "      <td>165.0</td>\n",
       "      <td>[{\"iso_639_1\": \"en\", \"name\": \"English\"}]</td>\n",
       "      <td>Released</td>\n",
       "      <td>The Legend Ends</td>\n",
       "      <td>The Dark Knight Rises</td>\n",
       "      <td>7.6</td>\n",
       "      <td>9106</td>\n",
       "      <td>Christian Bale Michael Caine Gary Oldman Anne ...</td>\n",
       "      <td>[{'name': 'Hans Zimmer', 'gender': 2, 'departm...</td>\n",
       "      <td>Christopher Nolan</td>\n",
       "    </tr>\n",
       "    <tr>\n",
       "      <th>4</th>\n",
       "      <td>4</td>\n",
       "      <td>260000000</td>\n",
       "      <td>Action Adventure Science Fiction</td>\n",
       "      <td>http://movies.disney.com/john-carter</td>\n",
       "      <td>49529</td>\n",
       "      <td>based on novel mars medallion space travel pri...</td>\n",
       "      <td>en</td>\n",
       "      <td>John Carter</td>\n",
       "      <td>John Carter is a war-weary, former military ca...</td>\n",
       "      <td>43.926995</td>\n",
       "      <td>...</td>\n",
       "      <td>132.0</td>\n",
       "      <td>[{\"iso_639_1\": \"en\", \"name\": \"English\"}]</td>\n",
       "      <td>Released</td>\n",
       "      <td>Lost in our world, found in another.</td>\n",
       "      <td>John Carter</td>\n",
       "      <td>6.1</td>\n",
       "      <td>2124</td>\n",
       "      <td>Taylor Kitsch Lynn Collins Samantha Morton Wil...</td>\n",
       "      <td>[{'name': 'Andrew Stanton', 'gender': 2, 'depa...</td>\n",
       "      <td>Andrew Stanton</td>\n",
       "    </tr>\n",
       "  </tbody>\n",
       "</table>\n",
       "<p>5 rows × 24 columns</p>\n",
       "</div>"
      ],
      "text/plain": [
       "   index     budget                                    genres  \\\n",
       "0      0  237000000  Action Adventure Fantasy Science Fiction   \n",
       "1      1  300000000                  Adventure Fantasy Action   \n",
       "2      2  245000000                    Action Adventure Crime   \n",
       "3      3  250000000               Action Crime Drama Thriller   \n",
       "4      4  260000000          Action Adventure Science Fiction   \n",
       "\n",
       "                                       homepage      id  \\\n",
       "0                   http://www.avatarmovie.com/   19995   \n",
       "1  http://disney.go.com/disneypictures/pirates/     285   \n",
       "2   http://www.sonypictures.com/movies/spectre/  206647   \n",
       "3            http://www.thedarkknightrises.com/   49026   \n",
       "4          http://movies.disney.com/john-carter   49529   \n",
       "\n",
       "                                            keywords original_language  \\\n",
       "0  culture clash future space war space colony so...                en   \n",
       "1  ocean drug abuse exotic island east india trad...                en   \n",
       "2         spy based on novel secret agent sequel mi6                en   \n",
       "3  dc comics crime fighter terrorist secret ident...                en   \n",
       "4  based on novel mars medallion space travel pri...                en   \n",
       "\n",
       "                             original_title  \\\n",
       "0                                    Avatar   \n",
       "1  Pirates of the Caribbean: At World's End   \n",
       "2                                   Spectre   \n",
       "3                     The Dark Knight Rises   \n",
       "4                               John Carter   \n",
       "\n",
       "                                            overview  popularity  ... runtime  \\\n",
       "0  In the 22nd century, a paraplegic Marine is di...  150.437577  ...   162.0   \n",
       "1  Captain Barbossa, long believed to be dead, ha...  139.082615  ...   169.0   \n",
       "2  A cryptic message from Bond’s past sends him o...  107.376788  ...   148.0   \n",
       "3  Following the death of District Attorney Harve...  112.312950  ...   165.0   \n",
       "4  John Carter is a war-weary, former military ca...   43.926995  ...   132.0   \n",
       "\n",
       "                                    spoken_languages    status  \\\n",
       "0  [{\"iso_639_1\": \"en\", \"name\": \"English\"}, {\"iso...  Released   \n",
       "1           [{\"iso_639_1\": \"en\", \"name\": \"English\"}]  Released   \n",
       "2  [{\"iso_639_1\": \"fr\", \"name\": \"Fran\\u00e7ais\"},...  Released   \n",
       "3           [{\"iso_639_1\": \"en\", \"name\": \"English\"}]  Released   \n",
       "4           [{\"iso_639_1\": \"en\", \"name\": \"English\"}]  Released   \n",
       "\n",
       "                                          tagline  \\\n",
       "0                     Enter the World of Pandora.   \n",
       "1  At the end of the world, the adventure begins.   \n",
       "2                           A Plan No One Escapes   \n",
       "3                                 The Legend Ends   \n",
       "4            Lost in our world, found in another.   \n",
       "\n",
       "                                      title vote_average vote_count  \\\n",
       "0                                    Avatar          7.2      11800   \n",
       "1  Pirates of the Caribbean: At World's End          6.9       4500   \n",
       "2                                   Spectre          6.3       4466   \n",
       "3                     The Dark Knight Rises          7.6       9106   \n",
       "4                               John Carter          6.1       2124   \n",
       "\n",
       "                                                cast  \\\n",
       "0  Sam Worthington Zoe Saldana Sigourney Weaver S...   \n",
       "1  Johnny Depp Orlando Bloom Keira Knightley Stel...   \n",
       "2  Daniel Craig Christoph Waltz L\\u00e9a Seydoux ...   \n",
       "3  Christian Bale Michael Caine Gary Oldman Anne ...   \n",
       "4  Taylor Kitsch Lynn Collins Samantha Morton Wil...   \n",
       "\n",
       "                                                crew           director  \n",
       "0  [{'name': 'Stephen E. Rivkin', 'gender': 0, 'd...      James Cameron  \n",
       "1  [{'name': 'Dariusz Wolski', 'gender': 2, 'depa...     Gore Verbinski  \n",
       "2  [{'name': 'Thomas Newman', 'gender': 2, 'depar...         Sam Mendes  \n",
       "3  [{'name': 'Hans Zimmer', 'gender': 2, 'departm...  Christopher Nolan  \n",
       "4  [{'name': 'Andrew Stanton', 'gender': 2, 'depa...     Andrew Stanton  \n",
       "\n",
       "[5 rows x 24 columns]"
      ]
     },
     "execution_count": 3,
     "metadata": {},
     "output_type": "execute_result"
    }
   ],
   "source": [
    "df.head()"
   ]
  },
  {
   "cell_type": "code",
   "execution_count": 4,
   "metadata": {},
   "outputs": [
    {
     "data": {
      "text/plain": [
       "<matplotlib.axes._subplots.AxesSubplot at 0x1c33b7438e0>"
      ]
     },
     "execution_count": 4,
     "metadata": {},
     "output_type": "execute_result"
    },
    {
     "data": {
      "image/png": "[encoded data removed]",
      "text/plain": [
       "<Figure size 432x288 with 1 Axes>"
      ]
     },
     "metadata": {
      "needs_background": "light"
     },
     "output_type": "display_data"
    }
   ],
   "source": [
    "plt.title(\"Distribution of Ratings for movies\")\n",
    "plt.ylabel(\"No of Movies\")\n",
    "sns.distplot(df[\"vote_average\"],kde=False,bins=10,color=\"blue\")"
   ]
  },
  {
   "cell_type": "code",
   "execution_count": null,
   "metadata": {},
   "outputs": [],
   "source": []
  },
  {
   "cell_type": "code",
   "execution_count": null,
   "metadata": {},
   "outputs": [],
   "source": []
  },
  {
   "cell_type": "markdown",
   "metadata": {},
   "source": [
    "\n",
    "We see that most of the movies are rated between 5.5 to 7.5"
   ]
  },
  {
   "cell_type": "code",
   "execution_count": 5,
   "metadata": {},
   "outputs": [
    {
     "data": {
      "text/plain": [
       "<matplotlib.axes._subplots.AxesSubplot at 0x1c33bea45b0>"
      ]
     },
     "execution_count": 5,
     "metadata": {},
     "output_type": "execute_result"
    },
    {
     "data": {
      "image/png": "[encoded data removed]",
      "text/plain": [
       "<Figure size 432x288 with 1 Axes>"
      ]
     },
     "metadata": {
      "needs_background": "light"
     },
     "output_type": "display_data"
    }
   ],
   "source": [
    "plt.title(\"Runtime of Movies\")\n",
    "plt.ylabel(\"Number of Movies\")\n",
    "sns.distplot(df[\"runtime\"],bins=5,kde=False)"
   ]
  },
  {
   "cell_type": "markdown",
   "metadata": {},
   "source": [
    "Most of the movies have the runtime between 80 minutes to 200 minutes"
   ]
  },
  {
   "cell_type": "code",
   "execution_count": 7,
   "metadata": {},
   "outputs": [
    {
     "data": {
      "text/plain": [
       "<seaborn.axisgrid.JointGrid at 0x1c33c13d700>"
      ]
     },
     "execution_count": 7,
     "metadata": {},
     "output_type": "execute_result"
    },
    {
     "data": {
      "image/png": "[encoded data removed]",
      "text/plain": [
       "<Figure size 432x432 with 3 Axes>"
      ]
     },
     "metadata": {
      "needs_background": "light"
     },
     "output_type": "display_data"
    }
   ],
   "source": [
    "g=sns.jointplot(x=\"vote_average\",y=\"budget\",data=df)\n",
    "g.fig.suptitle(\"Budget VS vote_average\", y=1.08)\n",
    "g.set_axis_labels(\"Vote average\",\n",
    "                 \"Budget in Billions\")"
   ]
  },
  {
   "cell_type": "markdown",
   "metadata": {},
   "source": [
    "Considering the features such as keywords cast genres and director a new column of combined features is created."
   ]
  },
  {
   "cell_type": "code",
   "execution_count": 8,
   "metadata": {},
   "outputs": [],
   "source": [
    "features=['keywords','cast','genres','director']"
   ]
  },
  {
   "cell_type": "code",
   "execution_count": 9,
   "metadata": {},
   "outputs": [],
   "source": [
    "def combine_features(row):# here we are doing content based recommendation so here we are combining the texts for our model.\n",
    "    return row['keywords']+\" \"+row['cast']+\" \" +row['genres']+\" \"+row['director']"
   ]
  },
  {
   "cell_type": "code",
   "execution_count": 28,
   "metadata": {},
   "outputs": [
    {
     "data": {
      "text/html": [
       "<div>\n",
       "<style scoped>\n",
       "    .dataframe tbody tr th:only-of-type {\n",
       "        vertical-align: middle;\n",
       "    }\n",
       "\n",
       "    .dataframe tbody tr th {\n",
       "        vertical-align: top;\n",
       "    }\n",
       "\n",
       "    .dataframe thead th {\n",
       "        text-align: right;\n",
       "    }\n",
       "</style>\n",
       "<table border=\"1\" class=\"dataframe\">\n",
       "  <thead>\n",
       "    <tr style=\"text-align: right;\">\n",
       "      <th></th>\n",
       "      <th>index</th>\n",
       "      <th>budget</th>\n",
       "      <th>genres</th>\n",
       "      <th>homepage</th>\n",
       "      <th>id</th>\n",
       "      <th>keywords</th>\n",
       "      <th>original_language</th>\n",
       "      <th>original_title</th>\n",
       "      <th>overview</th>\n",
       "      <th>popularity</th>\n",
       "      <th>...</th>\n",
       "      <th>runtime</th>\n",
       "      <th>spoken_languages</th>\n",
       "      <th>status</th>\n",
       "      <th>tagline</th>\n",
       "      <th>title</th>\n",
       "      <th>vote_average</th>\n",
       "      <th>vote_count</th>\n",
       "      <th>cast</th>\n",
       "      <th>crew</th>\n",
       "      <th>director</th>\n",
       "    </tr>\n",
       "  </thead>\n",
       "  <tbody>\n",
       "    <tr>\n",
       "      <th>15</th>\n",
       "      <td>15</td>\n",
       "      <td>225000000</td>\n",
       "      <td>Adventure Family Fantasy</td>\n",
       "      <td>NaN</td>\n",
       "      <td>2454</td>\n",
       "      <td>based on novel fictional place brother sister ...</td>\n",
       "      <td>en</td>\n",
       "      <td>The Chronicles of Narnia: Prince Caspian</td>\n",
       "      <td>One year after their incredible adventures in ...</td>\n",
       "      <td>53.978602</td>\n",
       "      <td>...</td>\n",
       "      <td>150.0</td>\n",
       "      <td>[{\"iso_639_1\": \"en\", \"name\": \"English\"}]</td>\n",
       "      <td>Released</td>\n",
       "      <td>Hope has a new face.</td>\n",
       "      <td>The Chronicles of Narnia: Prince Caspian</td>\n",
       "      <td>6.3</td>\n",
       "      <td>1630</td>\n",
       "      <td>Ben Barnes William Moseley Anna Popplewell Ska...</td>\n",
       "      <td>[{'name': 'Liz Mullane', 'gender': 1, 'departm...</td>\n",
       "      <td>Andrew Adamson</td>\n",
       "    </tr>\n",
       "    <tr>\n",
       "      <th>24</th>\n",
       "      <td>24</td>\n",
       "      <td>207000000</td>\n",
       "      <td>Adventure Drama Action</td>\n",
       "      <td>NaN</td>\n",
       "      <td>254</td>\n",
       "      <td>film business screenplay show business film ma...</td>\n",
       "      <td>en</td>\n",
       "      <td>King Kong</td>\n",
       "      <td>In 1933 New York, an overly ambitious movie pr...</td>\n",
       "      <td>61.226010</td>\n",
       "      <td>...</td>\n",
       "      <td>187.0</td>\n",
       "      <td>[{\"iso_639_1\": \"en\", \"name\": \"English\"}]</td>\n",
       "      <td>Released</td>\n",
       "      <td>The eighth wonder of the world.</td>\n",
       "      <td>King Kong</td>\n",
       "      <td>6.6</td>\n",
       "      <td>2337</td>\n",
       "      <td>Naomi Watts Jack Black Adrien Brody Thomas Kre...</td>\n",
       "      <td>[{'name': 'James Newton Howard', 'gender': 2, ...</td>\n",
       "      <td>Peter Jackson</td>\n",
       "    </tr>\n",
       "    <tr>\n",
       "      <th>27</th>\n",
       "      <td>27</td>\n",
       "      <td>209000000</td>\n",
       "      <td>Thriller Action Adventure Science Fiction</td>\n",
       "      <td>NaN</td>\n",
       "      <td>44833</td>\n",
       "      <td>fight u.s. navy mind reading hong kong soccer</td>\n",
       "      <td>en</td>\n",
       "      <td>Battleship</td>\n",
       "      <td>When mankind beams a radio signal into space, ...</td>\n",
       "      <td>64.928382</td>\n",
       "      <td>...</td>\n",
       "      <td>131.0</td>\n",
       "      <td>[{\"iso_639_1\": \"en\", \"name\": \"English\"}, {\"iso...</td>\n",
       "      <td>Released</td>\n",
       "      <td>The Battle for Earth Begins at Sea</td>\n",
       "      <td>Battleship</td>\n",
       "      <td>5.5</td>\n",
       "      <td>2114</td>\n",
       "      <td>Taylor Kitsch Alexander Skarsg\\u00e5rd Rihanna...</td>\n",
       "      <td>[{'name': 'Paul Rubell', 'gender': 2, 'departm...</td>\n",
       "      <td>Peter Berg</td>\n",
       "    </tr>\n",
       "    <tr>\n",
       "      <th>33</th>\n",
       "      <td>33</td>\n",
       "      <td>210000000</td>\n",
       "      <td>Adventure Action Science Fiction Thriller</td>\n",
       "      <td>NaN</td>\n",
       "      <td>36668</td>\n",
       "      <td>mutant marvel comic based on comic book superh...</td>\n",
       "      <td>en</td>\n",
       "      <td>X-Men: The Last Stand</td>\n",
       "      <td>When a cure is found to treat mutations, lines...</td>\n",
       "      <td>3.857526</td>\n",
       "      <td>...</td>\n",
       "      <td>104.0</td>\n",
       "      <td>[{\"iso_639_1\": \"en\", \"name\": \"English\"}]</td>\n",
       "      <td>Released</td>\n",
       "      <td>Take a Stand</td>\n",
       "      <td>X-Men: The Last Stand</td>\n",
       "      <td>6.3</td>\n",
       "      <td>3525</td>\n",
       "      <td>Hugh Jackman Halle Berry Ian McKellen Patrick ...</td>\n",
       "      <td>[{'name': 'Mark Goldblatt', 'gender': 2, 'depa...</td>\n",
       "      <td>Brett Ratner</td>\n",
       "    </tr>\n",
       "    <tr>\n",
       "      <th>34</th>\n",
       "      <td>34</td>\n",
       "      <td>200000000</td>\n",
       "      <td>Animation Family</td>\n",
       "      <td>NaN</td>\n",
       "      <td>62211</td>\n",
       "      <td>monster dormitory games animation best friend</td>\n",
       "      <td>en</td>\n",
       "      <td>Monsters University</td>\n",
       "      <td>A look at the relationship between Mike and Su...</td>\n",
       "      <td>89.186492</td>\n",
       "      <td>...</td>\n",
       "      <td>104.0</td>\n",
       "      <td>[{\"iso_639_1\": \"en\", \"name\": \"English\"}]</td>\n",
       "      <td>Released</td>\n",
       "      <td>School never looked this scary.</td>\n",
       "      <td>Monsters University</td>\n",
       "      <td>7.0</td>\n",
       "      <td>3528</td>\n",
       "      <td>Billy Crystal John Goodman Steve Buscemi Helen...</td>\n",
       "      <td>[{'name': 'Andrew Stanton', 'gender': 2, 'depa...</td>\n",
       "      <td>Dan Scanlon</td>\n",
       "    </tr>\n",
       "  </tbody>\n",
       "</table>\n",
       "<p>5 rows × 24 columns</p>\n",
       "</div>"
      ],
      "text/plain": [
       "    index     budget                                     genres homepage  \\\n",
       "15     15  225000000                   Adventure Family Fantasy      NaN   \n",
       "24     24  207000000                     Adventure Drama Action      NaN   \n",
       "27     27  209000000  Thriller Action Adventure Science Fiction      NaN   \n",
       "33     33  210000000  Adventure Action Science Fiction Thriller      NaN   \n",
       "34     34  200000000                           Animation Family      NaN   \n",
       "\n",
       "       id                                           keywords  \\\n",
       "15   2454  based on novel fictional place brother sister ...   \n",
       "24    254  film business screenplay show business film ma...   \n",
       "27  44833      fight u.s. navy mind reading hong kong soccer   \n",
       "33  36668  mutant marvel comic based on comic book superh...   \n",
       "34  62211      monster dormitory games animation best friend   \n",
       "\n",
       "   original_language                            original_title  \\\n",
       "15                en  The Chronicles of Narnia: Prince Caspian   \n",
       "24                en                                 King Kong   \n",
       "27                en                                Battleship   \n",
       "33                en                     X-Men: The Last Stand   \n",
       "34                en                       Monsters University   \n",
       "\n",
       "                                             overview  popularity  ...  \\\n",
       "15  One year after their incredible adventures in ...   53.978602  ...   \n",
       "24  In 1933 New York, an overly ambitious movie pr...   61.226010  ...   \n",
       "27  When mankind beams a radio signal into space, ...   64.928382  ...   \n",
       "33  When a cure is found to treat mutations, lines...    3.857526  ...   \n",
       "34  A look at the relationship between Mike and Su...   89.186492  ...   \n",
       "\n",
       "   runtime                                   spoken_languages    status  \\\n",
       "15   150.0           [{\"iso_639_1\": \"en\", \"name\": \"English\"}]  Released   \n",
       "24   187.0           [{\"iso_639_1\": \"en\", \"name\": \"English\"}]  Released   \n",
       "27   131.0  [{\"iso_639_1\": \"en\", \"name\": \"English\"}, {\"iso...  Released   \n",
       "33   104.0           [{\"iso_639_1\": \"en\", \"name\": \"English\"}]  Released   \n",
       "34   104.0           [{\"iso_639_1\": \"en\", \"name\": \"English\"}]  Released   \n",
       "\n",
       "                               tagline  \\\n",
       "15                Hope has a new face.   \n",
       "24     The eighth wonder of the world.   \n",
       "27  The Battle for Earth Begins at Sea   \n",
       "33                        Take a Stand   \n",
       "34     School never looked this scary.   \n",
       "\n",
       "                                       title vote_average vote_count  \\\n",
       "15  The Chronicles of Narnia: Prince Caspian          6.3       1630   \n",
       "24                                 King Kong          6.6       2337   \n",
       "27                                Battleship          5.5       2114   \n",
       "33                     X-Men: The Last Stand          6.3       3525   \n",
       "34                       Monsters University          7.0       3528   \n",
       "\n",
       "                                                 cast  \\\n",
       "15  Ben Barnes William Moseley Anna Popplewell Ska...   \n",
       "24  Naomi Watts Jack Black Adrien Brody Thomas Kre...   \n",
       "27  Taylor Kitsch Alexander Skarsg\\u00e5rd Rihanna...   \n",
       "33  Hugh Jackman Halle Berry Ian McKellen Patrick ...   \n",
       "34  Billy Crystal John Goodman Steve Buscemi Helen...   \n",
       "\n",
       "                                                 crew        director  \n",
       "15  [{'name': 'Liz Mullane', 'gender': 1, 'departm...  Andrew Adamson  \n",
       "24  [{'name': 'James Newton Howard', 'gender': 2, ...   Peter Jackson  \n",
       "27  [{'name': 'Paul Rubell', 'gender': 2, 'departm...      Peter Berg  \n",
       "33  [{'name': 'Mark Goldblatt', 'gender': 2, 'depa...    Brett Ratner  \n",
       "34  [{'name': 'Andrew Stanton', 'gender': 2, 'depa...     Dan Scanlon  \n",
       "\n",
       "[5 rows x 24 columns]"
      ]
     },
     "execution_count": 28,
     "metadata": {},
     "output_type": "execute_result"
    }
   ],
   "source": [
    "a=df[\"homepage\"].isnull()\n",
    "len(df[a])\n",
    "df[a].head()# here some values are missing."
   ]
  },
  {
   "cell_type": "code",
   "execution_count": 11,
   "metadata": {},
   "outputs": [
    {
     "name": "stdout",
     "output_type": "stream",
     "text": [
      "Index(['index', 'budget', 'genres', 'homepage', 'id', 'keywords',\n",
      "       'original_language', 'original_title', 'overview', 'popularity',\n",
      "       'production_companies', 'production_countries', 'release_date',\n",
      "       'revenue', 'runtime', 'spoken_languages', 'status', 'tagline', 'title',\n",
      "       'vote_average', 'vote_count', 'cast', 'crew', 'director',\n",
      "       'combined_features'],\n",
      "      dtype='object')\n"
     ]
    }
   ],
   "source": [
    "for feature in features:\n",
    "    df[feature]=df[feature].fillna('')# filling the null values with ' '\n",
    "print(df.columns)\n",
    "\n",
    "df[\"combined_features\"]=df.apply(combine_features,axis=1)# to apply the function to all columns\n",
    "# so at once it takes the values of a single row."
   ]
  },
  {
   "cell_type": "code",
   "execution_count": 12,
   "metadata": {},
   "outputs": [
    {
     "data": {
      "text/plain": [
       "'culture clash future space war space colony society Sam Worthington Zoe Saldana Sigourney Weaver Stephen Lang Michelle Rodriguez Action Adventure Fantasy Science Fiction James Cameron'"
      ]
     },
     "execution_count": 12,
     "metadata": {},
     "output_type": "execute_result"
    }
   ],
   "source": [
    "df.iloc[0].combined_features# here the genre and cast director keywords are being taken  and combined to create a vector."
   ]
  },
  {
   "cell_type": "markdown",
   "metadata": {},
   "source": [
    "Scikit-learn’s CountVectorizer is used to convert a collection of text documents to a vector of term/token counts. It also enables the ​pre-processing of text data prior to generating the vector representation. This functionality makes it a highly flexible feature representation module for text."
   ]
  },
  {
   "cell_type": "code",
   "execution_count": 13,
   "metadata": {},
   "outputs": [],
   "source": [
    "cv=CountVectorizer()# feeding the combined strings (movie count ) to Count vectoriser\n",
    "count_matrix=cv.fit_transform(df[\"combined_features\"])"
   ]
  },
  {
   "cell_type": "markdown",
   "metadata": {},
   "source": [
    "Cosine similarity is a metric used to determine how similar two entities are irrespective of their size. Mathematically, it measures the cosine of the angle between two vectors projected in a multi-dimensional space."
   ]
  },
  {
   "cell_type": "code",
   "execution_count": 14,
   "metadata": {},
   "outputs": [
    {
     "name": "stdout",
     "output_type": "stream",
     "text": [
      "[[1.         0.10540926 0.12038585 ... 0.         0.         0.        ]\n",
      " [0.10540926 1.         0.0761387  ... 0.03651484 0.         0.        ]\n",
      " [0.12038585 0.0761387  1.         ... 0.         0.11145564 0.        ]\n",
      " ...\n",
      " [0.         0.03651484 0.         ... 1.         0.         0.04264014]\n",
      " [0.         0.         0.11145564 ... 0.         1.         0.        ]\n",
      " [0.         0.         0.         ... 0.04264014 0.         1.        ]]\n"
     ]
    }
   ],
   "source": [
    "\n",
    "cosine_sim=cosine_similarity(count_matrix)\n",
    "print((cosine_sim))# automatically get a corelation matrix"
   ]
  },
  {
   "cell_type": "markdown",
   "metadata": {},
   "source": [
    "# defining to functions to helper functions to get movie titles from movie index ."
   ]
  },
  {
   "cell_type": "code",
   "execution_count": 15,
   "metadata": {},
   "outputs": [],
   "source": [
    "def get_title_from_index(index):\n",
    "    return df[df.index==index][\"title\"].values[0]\n",
    "def get_indec_from_title(title):\n",
    "    return df[df.title==title][\"index\"].values[0]"
   ]
  },
  {
   "cell_type": "markdown",
   "metadata": {},
   "source": [
    "movie_user_likes variable can be altered to get the recommendations for other movies."
   ]
  },
  {
   "cell_type": "code",
   "execution_count": 16,
   "metadata": {},
   "outputs": [
    {
     "name": "stdout",
     "output_type": "stream",
     "text": [
      "[(0, 1.0000000000000004), (1, 0.10540925533894599), (2, 0.12038585308576921), (3, 0.03774256780481986), (4, 0.23094010767585033), (5, 0.1924500897298753), (6, 0.0), (7, 0.1405456737852613), (8, 0.08206099398622181), (9, 0.11785113019775793), (10, 0.23094010767585035), (11, 0.07698003589195011), (12, 0.12038585308576921), (13, 0.11547005383792516), (14, 0.181848241863327), (15, 0.07548513560963972), (16, 0.1382602259640567), (17, 0.12309149097933272), (18, 0.1405456737852613), (19, 0.12309149097933272), (20, 0.11785113019775793), (21, 0.07856742013183862), (22, 0.08830215713766958), (23, 0.12909944487358055), (24, 0.06804138174397717), (25, 0.08606629658238704), (26, 0.21821789023599236), (27, 0.15713484026367724), (28, 0.15713484026367724), (29, 0.12309149097933272), (30, 0.1887128390240993), (31, 0.1924500897298753), (32, 0.10910894511799618), (33, 0.14547859349066158), (34, 0.0), (35, 0.16798421022632323), (36, 0.15713484026367724), (37, 0.21516574145596762), (38, 0.11322770341445959), (39, 0.15097027121927944), (40, 0.03573708449459316), (41, 0.15097027121927944), (42, 0.0), (43, 0.1924500897298753), (44, 0.16798421022632323), (45, 0.15097027121927944), (46, 0.214422506967559), (47, 0.34426518632954817), (48, 0.08606629658238704), (49, 0.0), (50, 0.11547005383792516), (51, 0.14547859349066158), (52, 0.16412198797244362), (53, 0.08206099398622181), (54, 0.040128617695256406), (55, 0.08206099398622181), (56, 0.33596842045264647), (57, 0.0), (58, 0.04536092116265145), (59, 0.14814814814814817), (60, 0.0), (61, 0.27498597046143514), (62, 0.08206099398622181), (63, 0.07407407407407408), (64, 0.11322770341445959), (65, 0.03774256780481986), (66, 0.03513641844631533), (67, 0.12598815766974242), (68, 0.15396007178390023), (69, 0.03928371006591931), (70, 0.15097027121927944), (71, 0.14907119849998599), (72, 0.1851851851851852), (73, 0.03573708449459316), (74, 0.16412198797244362), (75, 0.08606629658238704), (76, 0.20064308847628204), (77, 0.0), (78, 0.08025723539051281), (79, 0.14547859349066158), (80, 0.12598815766974242), (81, 0.16502459049611234), (82, 0.16051447078102563), (83, 0.1814436846506058), (84, 0.11111111111111113), (85, 0.20515248496555452), (86, 0.12598815766974242), (87, 0.12309149097933272), (88, 0.07548513560963972), (89, 0.040128617695256406), (90, 0.08206099398622181), (91, 0.17213259316477408), (92, 0.08399210511316162), (93, 0.11111111111111113), (94, 0.42339019740572564), (95, 0.11111111111111113), (96, 0.15097027121927944), (97, 0.15097027121927944), (98, 0.12309149097933272), (99, 0.11785113019775793), (100, 0.041030496993110906), (101, 0.20515248496555452), (102, 0.15097027121927944), (103, 0.12309149097933272), (104, 0.07698003589195011), (105, 0.08025723539051281), (106, 0.11785113019775793), (107, 0.12598815766974242), (108, 0.1851851851851852), (109, 0.07856742013183862), (110, 0.07698003589195011), (111, 0.16051447078102563), (112, 0.12038585308576921), (113, 0.07698003589195011), (114, 0.07698003589195011), (115, 0.07698003589195011), (116, 0.09901475429766741), (117, 0.07407407407407408), (118, 0.03774256780481986), (119, 0.03774256780481986), (120, 0.0), (121, 0.11785113019775793), (122, 0.16051447078102563), (123, 0.14547859349066158), (124, 0.04303314829119352), (125, 0.1405456737852613), (126, 0.10910894511799618), (127, 0.19641855032959654), (128, 0.0), (129, 0.12038585308576921), (130, 0.03703703703703704), (131, 0.17213259316477408), (132, 0.12309149097933272), (133, 0.07698003589195011), (134, 0.08399210511316162), (135, 0.0), (136, 0.03774256780481986), (137, 0.0), (138, 0.16412198797244362), (139, 0.08025723539051281), (140, 0.040128617695256406), (141, 0.040128617695256406), (142, 0.041030496993110906), (143, 0.08206099398622181), (144, 0.040128617695256406), (145, 0.11111111111111113), (146, 0.0), (147, 0.14294833797837264), (148, 0.08025723539051281), (149, 0.15396007178390023), (150, 0.21442250696755896), (151, 0.07856742013183862), (152, 0.07856742013183862), (153, 0.08399210511316162), (154, 0.040128617695256406), (155, 0.0), (156, 0.11322770341445959), (157, 0.08399210511316162), (158, 0.24618298195866545), (159, 0.16412198797244362), (160, 0.10910894511799618), (161, 0.04415107856883479), (162, 0.09335200560186732), (163, 0.10910894511799618), (164, 0.08206099398622181), (165, 0.16412198797244362), (166, 0.16798421022632323), (167, 0.12598815766974242), (168, 0.1924500897298753), (169, 0.1887128390240993), (170, 0.08399210511316162), (171, 0.08606629658238704), (172, 0.07856742013183862), (173, 0.0), (174, 0.13400504203456162), (175, 0.07548513560963972), (176, 0.036369648372665396), (177, 0.0), (178, 0.041030496993110906), (179, 0.04415107856883479), (180, 0.040128617695256406), (181, 0.040128617695256406), (182, 0.14814814814814817), (183, 0.15396007178390023), (184, 0.19245008972987526), (185, 0.11547005383792516), (186, 0.07548513560963972), (187, 0.15713484026367724), (188, 0.08399210511316162), (189, 0.04536092116265145), (190, 0.040128617695256406), (191, 0.07856742013183862), (192, 0.04303314829119352), (193, 0.17213259316477408), (194, 0.0), (195, 0.07407407407407408), (196, 0.11322770341445959), (197, 0.08025723539051281), (198, 0.08025723539051281), (199, 0.11547005383792516), (200, 0.15713484026367724), (201, 0.0), (202, 0.040128617695256406), (203, 0.14547859349066158), (204, 0.041030496993110906), (205, 0.08206099398622181), (206, 0.20064308847628204), (207, 0.16051447078102563), (208, 0.12598815766974242), (209, 0.04199605255658081), (210, 0.07407407407407408), (211, 0.040128617695256406), (212, 0.15097027121927944), (213, 0.08399210511316162), (214, 0.0), (215, 0.12598815766974242), (216, 0.08606629658238704), (217, 0.10540925533894599), (218, 0.04536092116265145), (219, 0.12598815766974242), (220, 0.12038585308576921), (221, 0.040128617695256406), (222, 0.20515248496555455), (223, 0.1887128390240993), (224, 0.16412198797244362), (225, 0.11322770341445959), (226, 0.04303314829119352), (227, 0.12598815766974242), (228, 0.24077170617153842), (229, 0.16051447078102563), (230, 0.16412198797244362), (231, 0.04199605255658081), (232, 0.2694301256218254), (233, 0.16798421022632323), (234, 0.07548513560963972), (235, 0.07856742013183862), (236, 0.11111111111111113), (237, 0.08025723539051281), (238, 0.19641855032959654), (239, 0.2765204519281134), (240, 0.08025723539051281), (241, 0.14547859349066158), (242, 0.16412198797244362), (243, 0.11547005383792516), (244, 0.04199605255658081), (245, 0.11785113019775793), (246, 0.07548513560963972), (247, 0.0), (248, 0.03849001794597506), (249, 0.19641855032959654), (250, 0.0), (251, 0.0), (252, 0.08399210511316162), (253, 0.07147416898918632), (254, 0.06913011298202835), (255, 0.0), (256, 0.19641855032959654), (257, 0.12038585308576921), (258, 0.03928371006591931), (259, 0.08399210511316162), (260, 0.15396007178390023), (261, 0.04536092116265145), (262, 0.12309149097933272), (263, 0.07698003589195011), (264, 0.0), (265, 0.040128617695256406), (266, 0.15396007178390023), (267, 0.11547005383792516), (268, 0.03703703703703704), (269, 0.0), (270, 0.11785113019775793), (271, 0.15396007178390023), (272, 0.0), (273, 0.036369648372665396), (274, 0.08399210511316162), (275, 0.15396007178390023), (276, 0.07856742013183862), (277, 0.08606629658238704), (278, 0.2810913475705226), (279, 0.20064308847628204), (280, 0.0), (281, 0.03928371006591931), (282, 0.12309149097933272), (283, 0.0), (284, 0.0), (285, 0.03849001794597506), (286, 0.12038585308576921), (287, 0.04303314829119352), (288, 0.0), (289, 0.07698003589195011), (290, 0.07698003589195011), (291, 0.07407407407407408), (292, 0.14547859349066158), (293, 0.07548513560963972), (294, 0.12598815766974242), (295, 0.03774256780481986), (296, 0.08025723539051281), (297, 0.041030496993110906), (298, 0.0), (299, 0.08025723539051281), (300, 0.22645540682891918), (301, 0.11547005383792516), (302, 0.0907218423253029), (303, 0.04303314829119352), (304, 0.08606629658238704), (305, 0.21081851067789198), (306, 0.12309149097933272), (307, 0.08206099398622181), (308, 0.036369648372665396), (309, 0.08830215713766958), (310, 0.08206099398622181), (311, 0.16798421022632323), (312, 0.11785113019775793), (313, 0.0), (314, 0.0), (315, 0.17660431427533915), (316, 0.08025723539051281), (317, 0.040128617695256406), (318, 0.04199605255658081), (319, 0.13245323570650436), (320, 0.11785113019775793), (321, 0.0), (322, 0.24077170617153845), (323, 0.0), (324, 0.08206099398622181), (325, 0.03703703703703704), (326, 0.07856742013183862), (327, 0.04415107856883479), (328, 0.0), (329, 0.11785113019775793), (330, 0.11785113019775793), (331, 0.11111111111111113), (332, 0.11785113019775793), (333, 0.07407407407407408), (334, 0.19641855032959654), (335, 0.15713484026367724), (336, 0.06600983619844494), (337, 0.03253000243161777), (338, 0.040128617695256406), (339, 0.07856742013183862), (340, 0.08606629658238704), (341, 0.08025723539051281), (342, 0.22222222222222227), (343, 0.0), (344, 0.048112522432468816), (345, 0.04536092116265145), (346, 0.07856742013183862), (347, 0.09335200560186732), (348, 0.041030496993110906), (349, 0.07698003589195011), (350, 0.12309149097933272), (351, 0.0), (352, 0.04199605255658081), (353, 0.03703703703703704), (354, 0.0), (355, 0.04415107856883479), (356, 0.07856742013183862), (357, 0.0), (358, 0.14814814814814817), (359, 0.040128617695256406), (360, 0.041030496993110906), (361, 0.04199605255658081), (362, 0.20064308847628204), (363, 0.15396007178390023), (364, 0.036369648372665396), (365, 0.11322770341445959), (366, 0.15097027121927944), (367, 0.0), (368, 0.08399210511316162), (369, 0.11785113019775793), (370, 0.11785113019775793), (371, 0.15396007178390023), (372, 0.12909944487358055), (373, 0.16412198797244362), (374, 0.04199605255658081), (375, 0.12909944487358055), (376, 0.11785113019775793), (377, 0.0), (378, 0.0), (379, 0.15713484026367724), (380, 0.0), (381, 0.09335200560186732), (382, 0.0), (383, 0.07856742013183862), (384, 0.041030496993110906), (385, 0.0), (386, 0.041030496993110906), (387, 0.04303314829119352), (388, 0.0), (389, 0.11785113019775793), (390, 0.08399210511316162), (391, 0.08206099398622181), (392, 0.03928371006591931), (393, 0.032075014954979206), (394, 0.04303314829119352), (395, 0.040128617695256406), (396, 0.04199605255658081), (397, 0.0), (398, 0.0), (399, 0.04199605255658081), (400, 0.23094010767585035), (401, 0.08206099398622181), (402, 0.07273929674533079), (403, 0.10910894511799618), (404, 0.03774256780481986), (405, 0.03163859985841663), (406, 0.040128617695256406), (407, 0.03456505649101418), (408, 0.04303314829119352), (409, 0.0), (410, 0.15097027121927944), (411, 0.07273929674533079), (412, 0.15097027121927944), (413, 0.11785113019775793), (414, 0.08025723539051281), (415, 0.12598815766974242), (416, 0.03928371006591931), (417, 0.08399210511316162), (418, 0.04536092116265145), (419, 0.15396007178390023), (420, 0.16051447078102563), (421, 0.0), (422, 0.12309149097933272), (423, 0.041030496993110906), (424, 0.07698003589195011), (425, 0.08206099398622181), (426, 0.15396007178390023), (427, 0.0), (428, 0.11785113019775793), (429, 0.0), (430, 0.0), (431, 0.04199605255658081), (432, 0.12309149097933272), (433, 0.040128617695256406), (434, 0.0), (435, 0.041030496993110906), (436, 0.05337605126836238), (437, 0.04303314829119352), (438, 0.0), (439, 0.040128617695256406), (440, 0.0), (441, 0.08206099398622181), (442, 0.10721125348377948), (443, 0.03774256780481986), (444, 0.03456505649101418), (445, 0.0), (446, 0.040128617695256406), (447, 0.08399210511316162), (448, 0.0), (449, 0.12309149097933272), (450, 0.08025723539051281), (451, 0.03774256780481986), (452, 0.03456505649101418), (453, 0.040128617695256406), (454, 0.08206099398622181), (455, 0.041030496993110906), (456, 0.1405456737852613), (457, 0.08830215713766958), (458, 0.04199605255658081), (459, 0.08025723539051281), (460, 0.041030496993110906), (461, 0.24618298195866545), (462, 0.04199605255658081), (463, 0.04415107856883479), (464, 0.04303314829119352), (465, 0.08025723539051281), (466, 0.22075539284417395), (467, 0.12909944487358055), (468, 0.08206099398622181), (469, 0.07698003589195011), (470, 0.040128617695256406), (471, 0.03774256780481986), (472, 0.11547005383792516), (473, 0.11322770341445959), (474, 0.0), (475, 0.08606629658238704), (476, 0.1814436846506058), (477, 0.0), (478, 0.08399210511316162), (479, 0.04667600280093366), (480, 0.15396007178390023), (481, 0.0), (482, 0.0), (483, 0.1924500897298753), (484, 0.040128617695256406), (485, 0.11785113019775793), (486, 0.11785113019775793), (487, 0.19641855032959654), (488, 0.07548513560963972), (489, 0.0), (490, 0.15713484026367724), (491, 0.07407407407407408), (492, 0.0), (493, 0.0), (494, 0.03849001794597506), (495, 0.15713484026367724), (496, 0.0907218423253029), (497, 0.0), (498, 0.04199605255658081), (499, 0.0), (500, 0.036369648372665396), (501, 0.16412198797244362), (502, 0.07273929674533079), (503, 0.09759000729485331), (504, 0.0), (505, 0.1924500897298753), (506, 0.0), (507, 0.16798421022632323), (508, 0.16051447078102563), (509, 0.0), (510, 0.15713484026367724), (511, 0.14814814814814817), (512, 0.11111111111111113), (513, 0.08025723539051281), (514, 0.03456505649101418), (515, 0.0), (516, 0.08206099398622181), (517, 0.04199605255658081), (518, 0.140028008402801), (519, 0.0), (520, 0.0), (521, 0.0), (522, 0.0), (523, 0.08606629658238704), (524, 0.0), (525, 0.036369648372665396), (526, 0.0), (527, 0.0), (528, 0.040128617695256406), (529, 0.0907218423253029), (530, 0.04667600280093366), (531, 0.11547005383792516), (532, 0.03774256780481986), (533, 0.08399210511316162), (534, 0.04415107856883479), (535, 0.07548513560963972), (536, 0.03573708449459316), (537, 0.08606629658238704), (538, 0.03849001794597506), (539, 0.24077170617153842), (540, 0.08830215713766958), (541, 0.22645540682891915), (542, 0.11785113019775793), (543, 0.11785113019775793), (544, 0.08025723539051281), (545, 0.07273929674533079), (546, 0.041030496993110906), (547, 0.12309149097933272), (548, 0.0), (549, 0.16798421022632323), (550, 0.0), (551, 0.04199605255658081), (552, 0.0), (553, 0.04303314829119352), (554, 0.0), (555, 0.03849001794597506), (556, 0.07273929674533079), (557, 0.11785113019775793), (558, 0.0), (559, 0.0), (560, 0.04303314829119352), (561, 0.032075014954979206), (562, 0.08206099398622181), (563, 0.04303314829119352), (564, 0.08206099398622181), (565, 0.11785113019775793), (566, 0.03513641844631533), (567, 0.0), (568, 0.12038585308576921), (569, 0.040128617695256406), (570, 0.040128617695256406), (571, 0.08206099398622181), (572, 0.11785113019775793), (573, 0.04199605255658081), (574, 0.11785113019775793), (575, 0.15097027121927944), (576, 0.036369648372665396), (577, 0.23570226039551587), (578, 0.03774256780481986), (579, 0.15097027121927944), (580, 0.04303314829119352), (581, 0.21821789023599236), (582, 0.11547005383792516), (583, 0.08025723539051281), (584, 0.140028008402801), (585, 0.08025723539051281), (586, 0.12171612389003693), (587, 0.22645540682891915), (588, 0.0), (589, 0.12038585308576921), (590, 0.041030496993110906), (591, 0.11547005383792516), (592, 0.041030496993110906), (593, 0.04415107856883479), (594, 0.08399210511316162), (595, 0.15097027121927944), (596, 0.07856742013183862), (597, 0.16051447078102563), (598, 0.0), (599, 0.12655439943366653), (600, 0.09335200560186732), (601, 0.12598815766974242), (602, 0.08399210511316162), (603, 0.0), (604, 0.07856742013183862), (605, 0.0), (606, 0.0), (607, 0.1887128390240993), (608, 0.0), (609, 0.12598815766974242), (610, 0.08206099398622181), (611, 0.11785113019775793), (612, 0.08399210511316162), (613, 0.040128617695256406), (614, 0.0), (615, 0.03253000243161777), (616, 0.0), (617, 0.08206099398622181), (618, 0.19641855032959654), (619, 0.0), (620, 0.0), (621, 0.036369648372665396), (622, 0.03849001794597506), (623, 0.0), (624, 0.11322770341445959), (625, 0.0), (626, 0.08206099398622181), (627, 0.13400504203456162), (628, 0.1388888888888889), (629, 0.03456505649101418), (630, 0.0), (631, 0.03774256780481986), (632, 0.08606629658238704), (633, 0.040128617695256406), (634, 0.11322770341445959), (635, 0.0), (636, 0.041030496993110906), (637, 0.0), (638, 0.0), (639, 0.0), (640, 0.08206099398622181), (641, 0.04303314829119352), (642, 0.1320196723968899), (643, 0.22222222222222227), (644, 0.08399210511316162), (645, 0.07856742013183862), (646, 0.03849001794597506), (647, 0.0), (648, 0.0), (649, 0.0), (650, 0.0), (651, 0.04303314829119352), (652, 0.0), (653, 0.041030496993110906), (654, 0.15713484026367724), (655, 0.08399210511316162), (656, 0.0), (657, 0.20515248496555452), (658, 0.10206207261596575), (659, 0.041030496993110906), (660, 0.07856742013183862), (661, 0.264197974633739), (662, 0.0), (663, 0.0), (664, 0.12309149097933272), (665, 0.07548513560963972), (666, 0.04303314829119352), (667, 0.0), (668, 0.07548513560963972), (669, 0.04303314829119352), (670, 0.0), (671, 0.12038585308576921), (672, 0.041030496993110906), (673, 0.07273929674533079), (674, 0.13608276348795437), (675, 0.16412198797244362), (676, 0.040128617695256406), (677, 0.04199605255658081), (678, 0.09938079899999065), (679, 0.0), (680, 0.11322770341445959), (681, 0.0), (682, 0.0), (683, 0.06804138174397717), (684, 0.0), (685, 0.03928371006591931), (686, 0.03928371006591931), (687, 0.12309149097933272), (688, 0.0), (689, 0.0), (690, 0.07548513560963972), (691, 0.07698003589195011), (692, 0.08206099398622181), (693, 0.0), (694, 0.03849001794597506), (695, 0.07407407407407408), (696, 0.040128617695256406), (697, 0.0), (698, 0.08206099398622181), (699, 0.0), (700, 0.03703703703703704), (701, 0.0), (702, 0.04303314829119352), (703, 0.0), (704, 0.04199605255658081), (705, 0.0), (706, 0.04199605255658081), (707, 0.0), (708, 0.041030496993110906), (709, 0.04415107856883479), (710, 0.03849001794597506), (711, 0.07548513560963972), (712, 0.07698003589195011), (713, 0.036369648372665396), (714, 0.0), (715, 0.13608276348795437), (716, 0.04536092116265145), (717, 0.0), (718, 0.10206207261596575), (719, 0.0), (720, 0.07856742013183862), (721, 0.04199605255658081), (722, 0.0), (723, 0.08206099398622181), (724, 0.04199605255658081), (725, 0.0), (726, 0.0), (727, 0.0), (728, 0.15396007178390023), (729, 0.0), (730, 0.08025723539051281), (731, 0.12909944487358055), (732, 0.16412198797244362), (733, 0.04415107856883479), (734, 0.04199605255658081), (735, 0.11785113019775793), (736, 0.04303314829119352), (737, 0.03849001794597506), (738, 0.0), (739, 0.041030496993110906), (740, 0.20515248496555452), (741, 0.03849001794597506), (742, 0.03573708449459316), (743, 0.04199605255658081), (744, 0.10910894511799618), (745, 0.041030496993110906), (746, 0.12038585308576921), (747, 0.04415107856883479), (748, 0.04303314829119352), (749, 0.0), (750, 0.04536092116265145), (751, 0.0), (752, 0.07407407407407408), (753, 0.04536092116265145), (754, 0.09901475429766741), (755, 0.16412198797244362), (756, 0.0), (757, 0.0), (758, 0.0), (759, 0.03774256780481986), (760, 0.0), (761, 0.040128617695256406), (762, 0.040128617695256406), (763, 0.0), (764, 0.08399210511316162), (765, 0.041030496993110906), (766, 0.0), (767, 0.07856742013183862), (768, 0.15097027121927944), (769, 0.08830215713766958), (770, 0.20515248496555455), (771, 0.0), (772, 0.0), (773, 0.17213259316477408), (774, 0.09335200560186732), (775, 0.16051447078102563), (776, 0.04303314829119352), (777, 0.08025723539051281), (778, 0.11322770341445959), (779, 0.0), (780, 0.0), (781, 0.11785113019775793), (782, 0.11111111111111113), (783, 0.03849001794597506), (784, 0.11322770341445959), (785, 0.07698003589195011), (786, 0.13608276348795437), (787, 0.16750630254320203), (788, 0.07273929674533079), (789, 0.040128617695256406), (790, 0.08606629658238704), (791, 0.08206099398622181), (792, 0.03703703703703704), (793, 0.11547005383792516), (794, 0.11785113019775793), (795, 0.03703703703703704), (796, 0.0), (797, 0.04303314829119352), (798, 0.0), (799, 0.15713484026367724), (800, 0.14294833797837264), (801, 0.0), (802, 0.0), (803, 0.04536092116265145), (804, 0.04199605255658081), (805, 0.08025723539051281), (806, 0.0), (807, 0.03849001794597506), (808, 0.08206099398622181), (809, 0.0), (810, 0.07548513560963972), (811, 0.0), (812, 0.15713484026367724), (813, 0.1851851851851852), (814, 0.15713484026367724), (815, 0.040128617695256406), (816, 0.07856742013183862), (817, 0.0), (818, 0.04303314829119352), (819, 0.0), (820, 0.04303314829119352), (821, 0.041030496993110906), (822, 0.0), (823, 0.040128617695256406), (824, 0.040128617695256406), (825, 0.0), (826, 0.0), (827, 0.041030496993110906), (828, 0.04199605255658081), (829, 0.0), (830, 0.03573708449459316), (831, 0.16798421022632323), (832, 0.04415107856883479), (833, 0.08206099398622181), (834, 0.08399210511316162), (835, 0.0), (836, 0.12309149097933272), (837, 0.0), (838, 0.2749859704614352), (839, 0.0), (840, 0.07856742013183862), (841, 0.08399210511316162), (842, 0.0), (843, 0.0), (844, 0.07856742013183862), (845, 0.0), (846, 0.0), (847, 0.0), (848, 0.041030496993110906), (849, 0.0), (850, 0.11547005383792516), (851, 0.0), (852, 0.0), (853, 0.04303314829119352), (854, 0.11785113019775793), (855, 0.17010345435994292), (856, 0.04199605255658081), (857, 0.051434449987363975), (858, 0.08830215713766958), (859, 0.10540925533894599), (860, 0.0), (861, 0.0), (862, 0.040128617695256406), (863, 0.04199605255658081), (864, 0.08206099398622181), (865, 0.0), (866, 0.048112522432468816), (867, 0.0), (868, 0.03849001794597506), (869, 0.0), (870, 0.181848241863327), (871, 0.0), (872, 0.04199605255658081), (873, 0.07548513560963972), (874, 0.0), (875, 0.0), (876, 0.0), (877, 0.0), (878, 0.07027283689263066), (879, 0.0), (880, 0.08399210511316162), (881, 0.0), (882, 0.0), (883, 0.0), (884, 0.0), (885, 0.0), (886, 0.0), (887, 0.0), (888, 0.08399210511316162), (889, 0.07407407407407408), (890, 0.0), (891, 0.0), (892, 0.041030496993110906), (893, 0.04199605255658081), (894, 0.08025723539051281), (895, 0.0), (896, 0.08206099398622181), (897, 0.0), (898, 0.08206099398622181), (899, 0.12038585308576921), (900, 0.12598815766974242), (901, 0.040128617695256406), (902, 0.041030496993110906), (903, 0.03573708449459316), (904, 0.041030496993110906), (905, 0.0), (906, 0.0), (907, 0.0), (908, 0.08399210511316162), (909, 0.0), (910, 0.0), (911, 0.03849001794597506), (912, 0.0), (913, 0.0), (914, 0.03928371006591931), (915, 0.0), (916, 0.0), (917, 0.08399210511316162), (918, 0.0), (919, 0.04199605255658081), (920, 0.15396007178390023), (921, 0.04536092116265145), (922, 0.14814814814814817), (923, 0.0), (924, 0.0), (925, 0.0), (926, 0.041030496993110906), (927, 0.0), (928, 0.0), (929, 0.12038585308576921), (930, 0.07698003589195011), (931, 0.16051447078102563), (932, 0.20515248496555455), (933, 0.07856742013183862), (934, 0.040128617695256406), (935, 0.07548513560963972), (936, 0.0), (937, 0.08025723539051281), (938, 0.0), (939, 0.14294833797837264), (940, 0.04199605255658081), (941, 0.11322770341445959), (942, 0.11547005383792516), (943, 0.0), (944, 0.0), (945, 0.04199605255658081), (946, 0.03513641844631533), (947, 0.0), (948, 0.0), (949, 0.0), (950, 0.08206099398622181), (951, 0.041030496993110906), (952, 0.04199605255658081), (953, 0.040128617695256406), (954, 0.0), (955, 0.040128617695256406), (956, 0.12309149097933272), (957, 0.0), (958, 0.0), (959, 0.040128617695256406), (960, 0.16798421022632323), (961, 0.040128617695256406), (962, 0.0), (963, 0.08025723539051281), (964, 0.04536092116265145), (965, 0.0), (966, 0.0), (967, 0.048112522432468816), (968, 0.0), (969, 0.08399210511316162), (970, 0.0), (971, 0.03703703703703704), (972, 0.14814814814814817), (973, 0.03456505649101418), (974, 0.0), (975, 0.0), (976, 0.15396007178390023), (977, 0.17568209223157663), (978, 0.03928371006591931), (979, 0.11785113019775793), (980, 0.0), (981, 0.09335200560186732), (982, 0.03849001794597506), (983, 0.0), (984, 0.08025723539051281), (985, 0.12309149097933272), (986, 0.04415107856883479), (987, 0.0), (988, 0.040128617695256406), (989, 0.07856742013183862), (990, 0.0), (991, 0.0), (992, 0.04303314829119352), (993, 0.04199605255658081), (994, 0.15396007178390023), (995, 0.08206099398622181), (996, 0.0), (997, 0.0), (998, 0.0), (999, 0.07407407407407408), (1000, 0.07698003589195011), (1001, 0.14814814814814817), (1002, 0.21516574145596762), (1003, 0.03513641844631533), (1004, 0.0), (1005, 0.03300491809922247), (1006, 0.08025723539051281), (1007, 0.03573708449459316), (1008, 0.15097027121927944), (1009, 0.0), (1010, 0.0), (1011, 0.0), (1012, 0.12309149097933272), (1013, 0.0), (1014, 0.04199605255658081), (1015, 0.08606629658238704), (1016, 0.14814814814814817), (1017, 0.03513641844631533), (1018, 0.0), (1019, 0.03774256780481986), (1020, 0.04199605255658081), (1021, 0.0), (1022, 0.0), (1023, 0.03774256780481986), (1024, 0.06804138174397717), (1025, 0.0), (1026, 0.0), (1027, 0.11785113019775793), (1028, 0.10721125348377948), (1029, 0.14294833797837264), (1030, 0.040128617695256406), (1031, 0.03849001794597506), (1032, 0.0), (1033, 0.0), (1034, 0.15097027121927944), (1035, 0.07856742013183862), (1036, 0.07548513560963972), (1037, 0.0), (1038, 0.0), (1039, 0.048112522432468816), (1040, 0.03703703703703704), (1041, 0.040128617695256406), (1042, 0.0), (1043, 0.04303314829119352), (1044, 0.14547859349066158), (1045, 0.0), (1046, 0.040128617695256406), (1047, 0.0), (1048, 0.0), (1049, 0.08206099398622181), (1050, 0.0), (1051, 0.0), (1052, 0.07147416898918632), (1053, 0.2809003238667948), (1054, 0.03928371006591931), (1055, 0.040128617695256406), (1056, 0.12598815766974242), (1057, 0.0), (1058, 0.08206099398622181), (1059, 0.041030496993110906), (1060, 0.0), (1061, 0.0), (1062, 0.041030496993110906), (1063, 0.0), (1064, 0.0907218423253029), (1065, 0.0), (1066, 0.0), (1067, 0.0), (1068, 0.15713484026367724), (1069, 0.0), (1070, 0.12309149097933272), (1071, 0.0), (1072, 0.049690399499995326), (1073, 0.07698003589195011), (1074, 0.08025723539051281), (1075, 0.0), (1076, 0.08206099398622181), (1077, 0.08399210511316162), (1078, 0.07548513560963972), (1079, 0.16051447078102563), (1080, 0.03849001794597506), (1081, 0.04303314829119352), (1082, 0.07147416898918632), (1083, 0.24618298195866542), (1084, 0.11111111111111113), (1085, 0.11547005383792516), (1086, 0.181848241863327), (1087, 0.0), (1088, 0.0), (1089, 0.12309149097933272), (1090, 0.040128617695256406), (1091, 0.0), (1092, 0.041030496993110906), (1093, 0.1924500897298753), (1094, 0.07856742013183862), (1095, 0.08025723539051281), (1096, 0.04199605255658081), (1097, 0.048112522432468816), (1098, 0.0), (1099, 0.15430334996209194), (1100, 0.07698003589195011), (1101, 0.03849001794597506), (1102, 0.0), (1103, 0.07856742013183862), (1104, 0.041030496993110906), (1105, 0.0), (1106, 0.14814814814814817), (1107, 0.04199605255658081), (1108, 0.0), (1109, 0.08399210511316162), (1110, 0.16412198797244362), (1111, 0.10910894511799618), (1112, 0.0), (1113, 0.0), (1114, 0.04415107856883479), (1115, 0.04536092116265145), (1116, 0.0), (1117, 0.0), (1118, 0.04199605255658081), (1119, 0.03774256780481986), (1120, 0.0), (1121, 0.0), (1122, 0.0), (1123, 0.0), (1124, 0.041030496993110906), (1125, 0.0), (1126, 0.03774256780481986), (1127, 0.0), (1128, 0.0), (1129, 0.0), (1130, 0.0), (1131, 0.07856742013183862), (1132, 0.08025723539051281), (1133, 0.040128617695256406), (1134, 0.07027283689263066), (1135, 0.04303314829119352), (1136, 0.07273929674533079), (1137, 0.03849001794597506), (1138, 0.07407407407407408), (1139, 0.11785113019775793), (1140, 0.03774256780481986), (1141, 0.0), (1142, 0.03849001794597506), (1143, 0.08399210511316162), (1144, 0.07698003589195011), (1145, 0.0), (1146, 0.11111111111111113), (1147, 0.0), (1148, 0.0), (1149, 0.0), (1150, 0.0), (1151, 0.0), (1152, 0.15097027121927944), (1153, 0.11322770341445959), (1154, 0.03849001794597506), (1155, 0.1924500897298753), (1156, 0.0), (1157, 0.0), (1158, 0.11547005383792516), (1159, 0.040128617695256406), (1160, 0.041030496993110906), (1161, 0.0), (1162, 0.0), (1163, 0.0), (1164, 0.0), (1165, 0.11547005383792516), (1166, 0.0), (1167, 0.0), (1168, 0.0), (1169, 0.0), (1170, 0.0), (1171, 0.0), (1172, 0.04199605255658081), (1173, 0.0), (1174, 0.03253000243161777), (1175, 0.10721125348377948), (1176, 0.0), (1177, 0.06327719971683327), (1178, 0.12309149097933272), (1179, 0.0), (1180, 0.0), (1181, 0.03849001794597506), (1182, 0.0), (1183, 0.09335200560186732), (1184, 0.0), (1185, 0.040128617695256406), (1186, 0.0), (1187, 0.04199605255658081), (1188, 0.10910894511799618), (1189, 0.0), (1190, 0.0), (1191, 0.181848241863327), (1192, 0.1728252824550709), (1193, 0.10050378152592121), (1194, 0.0), (1195, 0.03928371006591931), (1196, 0.0), (1197, 0.0), (1198, 0.11322770341445959), (1199, 0.07698003589195011), (1200, 0.07027283689263066), (1201, 0.14814814814814817), (1202, 0.0), (1203, 0.0), (1204, 0.04199605255658081), (1205, 0.0), (1206, 0.04303314829119352), (1207, 0.03774256780481986), (1208, 0.04536092116265145), (1209, 0.0), (1210, 0.0), (1211, 0.0), (1212, 0.04199605255658081), (1213, 0.19641855032959654), (1214, 0.0), (1215, 0.0), (1216, 0.0), (1217, 0.17568209223157666), (1218, 0.0), (1219, 0.0), (1220, 0.03703703703703704), (1221, 0.0), (1222, 0.04199605255658081), (1223, 0.0), (1224, 0.0), (1225, 0.07407407407407408), (1226, 0.0), (1227, 0.0), (1228, 0.0), (1229, 0.0), (1230, 0.1887128390240993), (1231, 0.03928371006591931), (1232, 0.0), (1233, 0.0), (1234, 0.07698003589195011), (1235, 0.0), (1236, 0.0), (1237, 0.04667600280093366), (1238, 0.12598815766974242), (1239, 0.11547005383792516), (1240, 0.0), (1241, 0.0), (1242, 0.08606629658238704), (1243, 0.0), (1244, 0.08206099398622181), (1245, 0.15713484026367724), (1246, 0.04536092116265145), (1247, 0.04303314829119352), (1248, 0.0), (1249, 0.04415107856883479), (1250, 0.041030496993110906), (1251, 0.0), (1252, 0.0), (1253, 0.04667600280093366), (1254, 0.08025723539051281), (1255, 0.0), (1256, 0.08399210511316162), (1257, 0.04199605255658081), (1258, 0.049690399499995326), (1259, 0.22680460581325726), (1260, 0.0), (1261, 0.0), (1262, 0.0), (1263, 0.04303314829119352), (1264, 0.04667600280093366), (1265, 0.08025723539051281), (1266, 0.12309149097933272), (1267, 0.049690399499995326), (1268, 0.0), (1269, 0.049690399499995326), (1270, 0.11322770341445959), (1271, 0.12309149097933272), (1272, 0.12909944487358055), (1273, 0.09335200560186732), (1274, 0.10206207261596575), (1275, 0.20064308847628204), (1276, 0.0), (1277, 0.17213259316477408), (1278, 0.04667600280093366), (1279, 0.11785113019775793), (1280, 0.0), (1281, 0.03703703703703704), (1282, 0.15713484026367724), (1283, 0.0), (1284, 0.040128617695256406), (1285, 0.09335200560186732), (1286, 0.10910894511799618), (1287, 0.08025723539051281), (1288, 0.051434449987363975), (1289, 0.0907218423253029), (1290, 0.15396007178390023), (1291, 0.08206099398622181), (1292, 0.0), (1293, 0.0), (1294, 0.16051447078102563), (1295, 0.0), (1296, 0.17010345435994292), (1297, 0.0), (1298, 0.07548513560963972), (1299, 0.0), (1300, 0.0), (1301, 0.040128617695256406), (1302, 0.12598815766974242), (1303, 0.14547859349066158), (1304, 0.033501260508640406), (1305, 0.0), (1306, 0.09335200560186732), (1307, 0.0), (1308, 0.0), (1309, 0.08830215713766958), (1310, 0.12309149097933272), (1311, 0.0), (1312, 0.0), (1313, 0.0), (1314, 0.0), (1315, 0.03703703703703704), (1316, 0.0), (1317, 0.03774256780481986), (1318, 0.16051447078102563), (1319, 0.12309149097933272), (1320, 0.08206099398622181), (1321, 0.08399210511316162), (1322, 0.11547005383792516), (1323, 0.0), (1324, 0.09335200560186732), (1325, 0.0), (1326, 0.11111111111111113), (1327, 0.0), (1328, 0.0), (1329, 0.040128617695256406), (1330, 0.0), (1331, 0.08025723539051281), (1332, 0.03774256780481986), (1333, 0.0), (1334, 0.07548513560963972), (1335, 0.0), (1336, 0.0), (1337, 0.08206099398622181), (1338, 0.0), (1339, 0.03774256780481986), (1340, 0.0), (1341, 0.11350087076783315), (1342, 0.04415107856883479), (1343, 0.08206099398622181), (1344, 0.10721125348377948), (1345, 0.0), (1346, 0.0), (1347, 0.04199605255658081), (1348, 0.04199605255658081), (1349, 0.04303314829119352), (1350, 0.04415107856883479), (1351, 0.0), (1352, 0.08025723539051281), (1353, 0.0), (1354, 0.16412198797244362), (1355, 0.0), (1356, 0.0), (1357, 0.048112522432468816), (1358, 0.11785113019775793), (1359, 0.07698003589195011), (1360, 0.040128617695256406), (1361, 0.07273929674533079), (1362, 0.0), (1363, 0.10050378152592121), (1364, 0.0), (1365, 0.03774256780481986), (1366, 0.0), (1367, 0.15396007178390023), (1368, 0.0), (1369, 0.0), (1370, 0.0), (1371, 0.0), (1372, 0.07856742013183862), (1373, 0.07698003589195011), (1374, 0.04199605255658081), (1375, 0.041030496993110906), (1376, 0.0), (1377, 0.12598815766974242), (1378, 0.0), (1379, 0.07856742013183862), (1380, 0.08830215713766958), (1381, 0.0), (1382, 0.07027283689263066), (1383, 0.0), (1384, 0.0), (1385, 0.0), (1386, 0.0), (1387, 0.0), (1388, 0.0), (1389, 0.0), (1390, 0.20064308847628204), (1391, 0.0), (1392, 0.0), (1393, 0.0), (1394, 0.04199605255658081), (1395, 0.20998026278290405), (1396, 0.0), (1397, 0.0), (1398, 0.04536092116265145), (1399, 0.15396007178390023), (1400, 0.0), (1401, 0.0), (1402, 0.08206099398622181), (1403, 0.0), (1404, 0.06415002990995841), (1405, 0.07698003589195011), (1406, 0.0), (1407, 0.0), (1408, 0.0), (1409, 0.0), (1410, 0.04199605255658081), (1411, 0.08399210511316162), (1412, 0.17868542247296582), (1413, 0.0), (1414, 0.0), (1415, 0.12309149097933272), (1416, 0.0), (1417, 0.04536092116265145), (1418, 0.0), (1419, 0.041030496993110906), (1420, 0.08025723539051281), (1421, 0.0), (1422, 0.07698003589195011), (1423, 0.041030496993110906), (1424, 0.0), (1425, 0.04303314829119352), (1426, 0.04303314829119352), (1427, 0.0), (1428, 0.12038585308576921), (1429, 0.0), (1430, 0.0), (1431, 0.036369648372665396), (1432, 0.03849001794597506), (1433, 0.08399210511316162), (1434, 0.04415107856883479), (1435, 0.08025723539051281), (1436, 0.0), (1437, 0.04199605255658081), (1438, 0.12038585308576921), (1439, 0.13608276348795434), (1440, 0.12309149097933272), (1441, 0.0), (1442, 0.0), (1443, 0.08399210511316162), (1444, 0.0), (1445, 0.040128617695256406), (1446, 0.03774256780481986), (1447, 0.08399210511316162), (1448, 0.13245323570650436), (1449, 0.040128617695256406), (1450, 0.03928371006591931), (1451, 0.04199605255658081), (1452, 0.07273929674533079), (1453, 0.08606629658238704), (1454, 0.0), (1455, 0.0), (1456, 0.041030496993110906), (1457, 0.041030496993110906), (1458, 0.0), (1459, 0.11547005383792516), (1460, 0.07856742013183862), (1461, 0.07856742013183862), (1462, 0.0), (1463, 0.03703703703703704), (1464, 0.0), (1465, 0.11322770341445959), (1466, 0.04667600280093366), (1467, 0.041030496993110906), (1468, 0.15097027121927944), (1469, 0.04415107856883479), (1470, 0.04199605255658081), (1471, 0.0), (1472, 0.0), (1473, 0.22645540682891918), (1474, 0.04667600280093366), (1475, 0.0), (1476, 0.0), (1477, 0.0), (1478, 0.0), (1479, 0.04536092116265145), (1480, 0.0), (1481, 0.08830215713766958), (1482, 0.11322770341445959), (1483, 0.03703703703703704), (1484, 0.040128617695256406), (1485, 0.041030496993110906), (1486, 0.041030496993110906), (1487, 0.04415107856883479), (1488, 0.0907218423253029), (1489, 0.0), (1490, 0.21442250696755896), (1491, 0.12038585308576921), (1492, 0.08399210511316162), (1493, 0.0), (1494, 0.07856742013183862), (1495, 0.11785113019775793), (1496, 0.08206099398622181), (1497, 0.03774256780481986), (1498, 0.0), (1499, 0.0), (1500, 0.08025723539051281), (1501, 0.0), (1502, 0.0), (1503, 0.04667600280093366), (1504, 0.0), (1505, 0.041030496993110906), (1506, 0.16798421022632323), (1507, 0.08025723539051281), (1508, 0.0), (1509, 0.04303314829119352), (1510, 0.11547005383792516), (1511, 0.0), (1512, 0.0), (1513, 0.07548513560963972), (1514, 0.08830215713766958), (1515, 0.03849001794597506), (1516, 0.0), (1517, 0.11785113019775793), (1518, 0.07273929674533079), (1519, 0.04199605255658081), (1520, 0.04536092116265145), (1521, 0.0), (1522, 0.0), (1523, 0.03774256780481986), (1524, 0.0907218423253029), (1525, 0.08606629658238704), (1526, 0.0), (1527, 0.04199605255658081), (1528, 0.04415107856883479), (1529, 0.0), (1530, 0.0), (1531, 0.2858966759567453), (1532, 0.0), (1533, 0.0), (1534, 0.0), (1535, 0.08025723539051281), (1536, 0.0), (1537, 0.0), (1538, 0.03456505649101418), (1539, 0.0), (1540, 0.0), (1541, 0.0), (1542, 0.07856742013183862), (1543, 0.03928371006591931), (1544, 0.0), (1545, 0.0), (1546, 0.20064308847628204), (1547, 0.0), (1548, 0.0), (1549, 0.03928371006591931), (1550, 0.04199605255658081), (1551, 0.0), (1552, 0.0), (1553, 0.0), (1554, 0.08399210511316162), (1555, 0.04303314829119352), (1556, 0.0), (1557, 0.0), (1558, 0.0), (1559, 0.08206099398622181), (1560, 0.03928371006591931), (1561, 0.0), (1562, 0.04667600280093366), (1563, 0.0), (1564, 0.09759000729485331), (1565, 0.0), (1566, 0.0), (1567, 0.0), (1568, 0.15713484026367724), (1569, 0.13245323570650436), (1570, 0.040128617695256406), (1571, 0.0), (1572, 0.0), (1573, 0.03774256780481986), (1574, 0.0907218423253029), (1575, 0.0), (1576, 0.0), (1577, 0.08399210511316162), (1578, 0.03928371006591931), (1579, 0.041030496993110906), (1580, 0.13608276348795437), (1581, 0.03456505649101418), (1582, 0.0), (1583, 0.1728252824550709), (1584, 0.041030496993110906), (1585, 0.0), (1586, 0.07856742013183862), (1587, 0.03703703703703704), (1588, 0.0), (1589, 0.0), (1590, 0.034020690871988585), (1591, 0.0), (1592, 0.04303314829119352), (1593, 0.0), (1594, 0.040128617695256406), (1595, 0.04415107856883479), (1596, 0.040128617695256406), (1597, 0.049690399499995326), (1598, 0.04415107856883479), (1599, 0.04199605255658081), (1600, 0.0), (1601, 0.0), (1602, 0.13608276348795437), (1603, 0.03928371006591931), (1604, 0.0), (1605, 0.0), (1606, 0.0), (1607, 0.036369648372665396), (1608, 0.11322770341445959), (1609, 0.0), (1610, 0.08025723539051281), (1611, 0.20064308847628204), (1612, 0.0), (1613, 0.0), (1614, 0.0), (1615, 0.08399210511316162), (1616, 0.08206099398622181), (1617, 0.15097027121927944), (1618, 0.0), (1619, 0.04303314829119352), (1620, 0.04536092116265145), (1621, 0.0), (1622, 0.0), (1623, 0.08830215713766958), (1624, 0.0), (1625, 0.15396007178390023), (1626, 0.07147416898918632), (1627, 0.0), (1628, 0.09335200560186732), (1629, 0.0), (1630, 0.0), (1631, 0.0), (1632, 0.0), (1633, 0.16798421022632323), (1634, 0.0), (1635, 0.040128617695256406), (1636, 0.08025723539051281), (1637, 0.03774256780481986), (1638, 0.0), (1639, 0.0), (1640, 0.0), (1641, 0.0), (1642, 0.07698003589195011), (1643, 0.12038585308576921), (1644, 0.0), (1645, 0.08206099398622181), (1646, 0.0), (1647, 0.0), (1648, 0.0), (1649, 0.0), (1650, 0.2501595914621521), (1651, 0.03849001794597506), (1652, 0.23570226039551584), (1653, 0.041030496993110906), (1654, 0.11547005383792516), (1655, 0.0), (1656, 0.0), (1657, 0.0), (1658, 0.08606629658238704), (1659, 0.0), (1660, 0.0), (1661, 0.041030496993110906), (1662, 0.07856742013183862), (1663, 0.040128617695256406), (1664, 0.03703703703703704), (1665, 0.0), (1666, 0.0), (1667, 0.13245323570650436), (1668, 0.0), (1669, 0.07856742013183862), (1670, 0.08025723539051281), (1671, 0.07698003589195011), (1672, 0.10369516947304253), (1673, 0.0), (1674, 0.0), (1675, 0.0907218423253029), (1676, 0.0), (1677, 0.0), (1678, 0.048112522432468816), (1679, 0.0), (1680, 0.08206099398622181), (1681, 0.0), (1682, 0.08399210511316162), (1683, 0.0), (1684, 0.036369648372665396), (1685, 0.0), (1686, 0.11322770341445959), (1687, 0.040128617695256406), (1688, 0.04199605255658081), (1689, 0.0), (1690, 0.0), (1691, 0.0), (1692, 0.0), (1693, 0.0), (1694, 0.040128617695256406), (1695, 0.08206099398622181), (1696, 0.0), (1697, 0.08025723539051281), (1698, 0.0), (1699, 0.040128617695256406), (1700, 0.04536092116265145), (1701, 0.09938079899999065), (1702, 0.04199605255658081), (1703, 0.0), (1704, 0.0), (1705, 0.0), (1706, 0.0), (1707, 0.08025723539051281), (1708, 0.0), (1709, 0.09938079899999065), (1710, 0.0), (1711, 0.041030496993110906), (1712, 0.0), (1713, 0.07856742013183862), (1714, 0.0), (1715, 0.1728252824550709), (1716, 0.0), (1717, 0.0), (1718, 0.040128617695256406), (1719, 0.0), (1720, 0.036369648372665396), (1721, 0.10540925533894599), (1722, 0.0), (1723, 0.0), (1724, 0.0), (1725, 0.11322770341445959), (1726, 0.04199605255658081), (1727, 0.04303314829119352), (1728, 0.041030496993110906), (1729, 0.0), (1730, 0.0), (1731, 0.036369648372665396), (1732, 0.0), (1733, 0.04667600280093366), (1734, 0.08399210511316162), (1735, 0.10721125348377948), (1736, 0.03928371006591931), (1737, 0.08025723539051281), (1738, 0.0), (1739, 0.0), (1740, 0.07147416898918632), (1741, 0.048112522432468816), (1742, 0.04199605255658081), (1743, 0.07856742013183862), (1744, 0.0), (1745, 0.03513641844631533), (1746, 0.04536092116265145), (1747, 0.08606629658238704), (1748, 0.0), (1749, 0.0), (1750, 0.19641855032959654), (1751, 0.08025723539051281), (1752, 0.0), (1753, 0.07548513560963972), (1754, 0.03774256780481986), (1755, 0.0), (1756, 0.0), (1757, 0.12038585308576921), (1758, 0.0), (1759, 0.16412198797244362), (1760, 0.0), (1761, 0.07856742013183862), (1762, 0.12909944487358055), (1763, 0.0), (1764, 0.0907218423253029), (1765, 0.041030496993110906), (1766, 0.0), (1767, 0.0), (1768, 0.0), (1769, 0.08399210511316162), (1770, 0.0), (1771, 0.04415107856883479), (1772, 0.0), (1773, 0.0), (1774, 0.0), (1775, 0.0), (1776, 0.0), (1777, 0.17660431427533915), (1778, 0.0), (1779, 0.0), (1780, 0.0), (1781, 0.0), (1782, 0.0), (1783, 0.08606629658238704), (1784, 0.0), (1785, 0.0), (1786, 0.07698003589195011), (1787, 0.11785113019775793), (1788, 0.0), (1789, 0.0), (1790, 0.07273929674533079), (1791, 0.0), (1792, 0.040128617695256406), (1793, 0.0), (1794, 0.12309149097933272), (1795, 0.03774256780481986), (1796, 0.08512565307587486), (1797, 0.0), (1798, 0.0), (1799, 0.0), (1800, 0.040128617695256406), (1801, 0.0), (1802, 0.15396007178390023), (1803, 0.04303314829119352), (1804, 0.16412198797244362), (1805, 0.0), (1806, 0.040128617695256406), (1807, 0.04199605255658081), (1808, 0.12309149097933272), (1809, 0.0), (1810, 0.0), (1811, 0.0), (1812, 0.0), (1813, 0.040128617695256406), (1814, 0.0), (1815, 0.04303314829119352), (1816, 0.09335200560186732), (1817, 0.03573708449459316), (1818, 0.07698003589195011), (1819, 0.0), (1820, 0.0), (1821, 0.11322770341445959), (1822, 0.08399210511316162), (1823, 0.0), (1824, 0.0), (1825, 0.08206099398622181), (1826, 0.12309149097933272), (1827, 0.15713484026367724), (1828, 0.0), (1829, 0.0), (1830, 0.032075014954979206), (1831, 0.0), (1832, 0.0), (1833, 0.04199605255658081), (1834, 0.0), (1835, 0.0), (1836, 0.11547005383792516), (1837, 0.040128617695256406), (1838, 0.0), (1839, 0.08206099398622181), (1840, 0.0), (1841, 0.040128617695256406), (1842, 0.040128617695256406), (1843, 0.0), (1844, 0.041030496993110906), (1845, 0.0), (1846, 0.0), (1847, 0.0), (1848, 0.041030496993110906), (1849, 0.040128617695256406), (1850, 0.08025723539051281), (1851, 0.08206099398622181), (1852, 0.0), (1853, 0.041030496993110906), (1854, 0.07273929674533079), (1855, 0.0), (1856, 0.03928371006591931), (1857, 0.0), (1858, 0.040128617695256406), (1859, 0.0), (1860, 0.04415107856883479), (1861, 0.0), (1862, 0.0), (1863, 0.0), (1864, 0.07698003589195011), (1865, 0.041030496993110906), (1866, 0.0), (1867, 0.0), (1868, 0.04303314829119352), (1869, 0.08399210511316162), (1870, 0.0), (1871, 0.0), (1872, 0.16051447078102563), (1873, 0.09938079899999065), (1874, 0.0), (1875, 0.0), (1876, 0.0), (1877, 0.14294833797837264), (1878, 0.10540925533894599), (1879, 0.049690399499995326), (1880, 0.03774256780481986), (1881, 0.0), (1882, 0.04199605255658081), (1883, 0.0), (1884, 0.0), (1885, 0.0), (1886, 0.040128617695256406), (1887, 0.0), (1888, 0.0), (1889, 0.0), (1890, 0.0), (1891, 0.041030496993110906), (1892, 0.14547859349066158), (1893, 0.04303314829119352), (1894, 0.041030496993110906), (1895, 0.0), (1896, 0.04536092116265145), (1897, 0.04199605255658081), (1898, 0.048112522432468816), (1899, 0.04536092116265145), (1900, 0.03928371006591931), (1901, 0.049690399499995326), (1902, 0.20515248496555452), (1903, 0.0), (1904, 0.0), (1905, 0.0), (1906, 0.03928371006591931), (1907, 0.06913011298202835), (1908, 0.04303314829119352), (1909, 0.0), (1910, 0.04303314829119352), (1911, 0.0), (1912, 0.0), (1913, 0.049690399499995326), (1914, 0.19641855032959654), (1915, 0.040128617695256406), (1916, 0.0), (1917, 0.03928371006591931), (1918, 0.16798421022632323), (1919, 0.0), (1920, 0.04199605255658081), (1921, 0.10910894511799618), (1922, 0.20064308847628204), (1923, 0.07407407407407408), (1924, 0.04303314829119352), (1925, 0.0), (1926, 0.0), (1927, 0.0), (1928, 0.040128617695256406), (1929, 0.0), (1930, 0.08399210511316162), (1931, 0.04303314829119352), (1932, 0.2182178902359924), (1933, 0.04415107856883479), (1934, 0.0), (1935, 0.0), (1936, 0.16412198797244362), (1937, 0.048112522432468816), (1938, 0.11111111111111113), (1939, 0.1887128390240993), (1940, 0.0), (1941, 0.0), (1942, 0.04199605255658081), (1943, 0.0), (1944, 0.03928371006591931), (1945, 0.0), (1946, 0.0), (1947, 0.0), (1948, 0.0), (1949, 0.0), (1950, 0.03253000243161777), (1951, 0.2222222222222222), (1952, 0.03774256780481986), (1953, 0.12598815766974242), (1954, 0.04415107856883479), (1955, 0.04199605255658081), (1956, 0.040128617695256406), (1957, 0.08830215713766958), (1958, 0.08399210511316162), (1959, 0.14294833797837264), (1960, 0.03703703703703704), (1961, 0.04415107856883479), (1962, 0.049690399499995326), (1963, 0.0), (1964, 0.0), (1965, 0.0), (1966, 0.0), (1967, 0.0), (1968, 0.0), (1969, 0.0), (1970, 0.0), (1971, 0.0), (1972, 0.040128617695256406), (1973, 0.08399210511316162), (1974, 0.040128617695256406), (1975, 0.0), (1976, 0.12909944487358055), (1977, 0.06700252101728081), (1978, 0.04667600280093366), (1979, 0.0), (1980, 0.0), (1981, 0.0), (1982, 0.0), (1983, 0.0), (1984, 0.16051447078102563), (1985, 0.0), (1986, 0.04536092116265145), (1987, 0.08399210511316162), (1988, 0.0), (1989, 0.0), (1990, 0.23570226039551587), (1991, 0.040128617695256406), (1992, 0.0), (1993, 0.03928371006591931), (1994, 0.0), (1995, 0.11785113019775793), (1996, 0.0), (1997, 0.08206099398622181), (1998, 0.0), (1999, 0.15396007178390023), (2000, 0.0), (2001, 0.049690399499995326), (2002, 0.04199605255658081), (2003, 0.03849001794597506), (2004, 0.0), (2005, 0.0), (2006, 0.0907218423253029), (2007, 0.040128617695256406), (2008, 0.07548513560963972), (2009, 0.0), (2010, 0.0), (2011, 0.09938079899999065), (2012, 0.041030496993110906), (2013, 0.03849001794597506), (2014, 0.0), (2015, 0.15396007178390023), (2016, 0.10206207261596575), (2017, 0.03703703703703704), (2018, 0.040128617695256406), (2019, 0.03774256780481986), (2020, 0.0), (2021, 0.0), (2022, 0.0), (2023, 0.04199605255658081), (2024, 0.041030496993110906), (2025, 0.0), (2026, 0.03774256780481986), (2027, 0.041030496993110906), (2028, 0.0), (2029, 0.08025723539051281), (2030, 0.0), (2031, 0.0), (2032, 0.0), (2033, 0.0), (2034, 0.0), (2035, 0.0), (2036, 0.0), (2037, 0.0), (2038, 0.0), (2039, 0.0), (2040, 0.0), (2041, 0.0), (2042, 0.0), (2043, 0.07407407407407408), (2044, 0.0), (2045, 0.0), (2046, 0.15097027121927944), (2047, 0.12909944487358055), (2048, 0.0), (2049, 0.0), (2050, 0.041030496993110906), (2051, 0.0), (2052, 0.07407407407407408), (2053, 0.07698003589195011), (2054, 0.03928371006591931), (2055, 0.04415107856883479), (2056, 0.0), (2057, 0.08606629658238704), (2058, 0.0), (2059, 0.0), (2060, 0.10721125348377948), (2061, 0.0), (2062, 0.03928371006591931), (2063, 0.0), (2064, 0.036369648372665396), (2065, 0.0), (2066, 0.14814814814814817), (2067, 0.0), (2068, 0.0), (2069, 0.12038585308576921), (2070, 0.0), (2071, 0.040128617695256406), (2072, 0.0), (2073, 0.0), (2074, 0.040128617695256406), (2075, 0.04303314829119352), (2076, 0.10721125348377948), (2077, 0.03774256780481986), (2078, 0.0), (2079, 0.0), (2080, 0.04199605255658081), (2081, 0.0), (2082, 0.0), (2083, 0.0), (2084, 0.11322770341445959), (2085, 0.08206099398622181), (2086, 0.03703703703703704), (2087, 0.08206099398622181), (2088, 0.0), (2089, 0.03928371006591931), (2090, 0.0), (2091, 0.0), (2092, 0.0), (2093, 0.04199605255658081), (2094, 0.0), (2095, 0.03928371006591931), (2096, 0.03703703703703704), (2097, 0.03928371006591931), (2098, 0.0), (2099, 0.0), (2100, 0.08399210511316162), (2101, 0.03513641844631533), (2102, 0.0), (2103, 0.11322770341445959), (2104, 0.0), (2105, 0.0), (2106, 0.06804138174397717), (2107, 0.0), (2108, 0.03849001794597506), (2109, 0.041030496993110906), (2110, 0.0), (2111, 0.03849001794597506), (2112, 0.0), (2113, 0.0), (2114, 0.13245323570650436), (2115, 0.0), (2116, 0.041030496993110906), (2117, 0.03928371006591931), (2118, 0.0), (2119, 0.0), (2120, 0.0), (2121, 0.07856742013183862), (2122, 0.09938079899999065), (2123, 0.0), (2124, 0.0), (2125, 0.04415107856883479), (2126, 0.0), (2127, 0.1851851851851852), (2128, 0.0), (2129, 0.23094010767585033), (2130, 0.0), (2131, 0.04303314829119352), (2132, 0.0), (2133, 0.0), (2134, 0.0), (2135, 0.0), (2136, 0.07273929674533079), (2137, 0.0), (2138, 0.07027283689263066), (2139, 0.0), (2140, 0.04415107856883479), (2141, 0.04199605255658081), (2142, 0.04415107856883479), (2143, 0.0), (2144, 0.0), (2145, 0.0), (2146, 0.0), (2147, 0.08206099398622181), (2148, 0.03573708449459316), (2149, 0.0), (2150, 0.0), (2151, 0.08206099398622181), (2152, 0.08206099398622181), (2153, 0.08606629658238704), (2154, 0.04415107856883479), (2155, 0.12038585308576921), (2156, 0.07698003589195011), (2157, 0.19641855032959654), (2158, 0.0), (2159, 0.03928371006591931), (2160, 0.0), (2161, 0.08606629658238704), (2162, 0.0), (2163, 0.1924500897298753), (2164, 0.0), (2165, 0.10286889997472795), (2166, 0.040128617695256406), (2167, 0.041030496993110906), (2168, 0.0), (2169, 0.11111111111111113), (2170, 0.0), (2171, 0.0), (2172, 0.0), (2173, 0.0), (2174, 0.0), (2175, 0.12598815766974242), (2176, 0.0), (2177, 0.0), (2178, 0.03774256780481986), (2179, 0.0), (2180, 0.0), (2181, 0.07548513560963972), (2182, 0.0), (2183, 0.0), (2184, 0.1405456737852613), (2185, 0.07856742013183862), (2186, 0.03928371006591931), (2187, 0.0), (2188, 0.04667600280093366), (2189, 0.08830215713766958), (2190, 0.0), (2191, 0.0), (2192, 0.0), (2193, 0.0), (2194, 0.041030496993110906), (2195, 0.03928371006591931), (2196, 0.036369648372665396), (2197, 0.0), (2198, 0.31426968052735443), (2199, 0.0), (2200, 0.03928371006591931), (2201, 0.041030496993110906), (2202, 0.0), (2203, 0.03774256780481986), (2204, 0.0), (2205, 0.09335200560186732), (2206, 0.041030496993110906), (2207, 0.07548513560963972), (2208, 0.0), (2209, 0.07856742013183862), (2210, 0.0), (2211, 0.08206099398622181), (2212, 0.04536092116265145), (2213, 0.0), (2214, 0.0), (2215, 0.04415107856883479), (2216, 0.0), (2217, 0.0), (2218, 0.07698003589195011), (2219, 0.04303314829119352), (2220, 0.0), (2221, 0.03849001794597506), (2222, 0.04667600280093366), (2223, 0.04536092116265145), (2224, 0.0), (2225, 0.0), (2226, 0.0), (2227, 0.0), (2228, 0.04415107856883479), (2229, 0.22645540682891918), (2230, 0.0), (2231, 0.0), (2232, 0.0), (2233, 0.08025723539051281), (2234, 0.0), (2235, 0.07856742013183862), (2236, 0.0), (2237, 0.12598815766974242), (2238, 0.0), (2239, 0.03928371006591931), (2240, 0.0), (2241, 0.03849001794597506), (2242, 0.0), (2243, 0.0), (2244, 0.13245323570650436), (2245, 0.04415107856883479), (2246, 0.04199605255658081), (2247, 0.08206099398622181), (2248, 0.0), (2249, 0.0), (2250, 0.08206099398622181), (2251, 0.0), (2252, 0.0), (2253, 0.12309149097933272), (2254, 0.08830215713766958), (2255, 0.12309149097933272), (2256, 0.0), (2257, 0.0), (2258, 0.12309149097933272), (2259, 0.0), (2260, 0.0), (2261, 0.041030496993110906), (2262, 0.17868542247296582), (2263, 0.03300491809922247), (2264, 0.16051447078102563), (2265, 0.0), (2266, 0.04415107856883479), (2267, 0.0), (2268, 0.04415107856883479), (2269, 0.0), (2270, 0.04415107856883479), (2271, 0.0), (2272, 0.0), (2273, 0.0), (2274, 0.04303314829119352), (2275, 0.0), (2276, 0.0), (2277, 0.04303314829119352), (2278, 0.10206207261596575), (2279, 0.04536092116265145), (2280, 0.0), (2281, 0.0), (2282, 0.0), (2283, 0.0), (2284, 0.0), (2285, 0.11785113019775793), (2286, 0.0), (2287, 0.0), (2288, 0.04199605255658081), (2289, 0.0), (2290, 0.0), (2291, 0.08606629658238704), (2292, 0.10675210253672476), (2293, 0.040128617695256406), (2294, 0.08025723539051281), (2295, 0.08025723539051281), (2296, 0.03849001794597506), (2297, 0.04303314829119352), (2298, 0.08606629658238704), (2299, 0.0), (2300, 0.04303314829119352), (2301, 0.041030496993110906), (2302, 0.0), (2303, 0.04536092116265145), (2304, 0.0), (2305, 0.04303314829119352), (2306, 0.03849001794597506), (2307, 0.0), (2308, 0.0), (2309, 0.048112522432468816), (2310, 0.03849001794597506), (2311, 0.04536092116265145), (2312, 0.0), (2313, 0.08206099398622181), (2314, 0.03849001794597506), (2315, 0.0), (2316, 0.0), (2317, 0.20998026278290405), (2318, 0.0), (2319, 0.0), (2320, 0.12038585308576921), (2321, 0.0), (2322, 0.0), (2323, 0.0), (2324, 0.08206099398622181), (2325, 0.0), (2326, 0.0), (2327, 0.15396007178390023), (2328, 0.0), (2329, 0.0), (2330, 0.0), (2331, 0.0), (2332, 0.0), (2333, 0.041030496993110906), (2334, 0.0), (2335, 0.0), (2336, 0.07407407407407408), (2337, 0.0), (2338, 0.08025723539051281), (2339, 0.0), (2340, 0.041030496993110906), (2341, 0.07856742013183862), (2342, 0.0), (2343, 0.12598815766974242), (2344, 0.0), (2345, 0.0), (2346, 0.07407407407407408), (2347, 0.0), (2348, 0.11785113019775793), (2349, 0.03573708449459316), (2350, 0.08399210511316162), (2351, 0.0), (2352, 0.140028008402801), (2353, 0.0), (2354, 0.0), (2355, 0.0), (2356, 0.0), (2357, 0.06700252101728081), (2358, 0.0), (2359, 0.0), (2360, 0.051434449987363975), (2361, 0.08206099398622181), (2362, 0.0), (2363, 0.04536092116265145), (2364, 0.0), (2365, 0.0), (2366, 0.040128617695256406), (2367, 0.048112522432468816), (2368, 0.0), (2369, 0.0), (2370, 0.0), (2371, 0.036369648372665396), (2372, 0.16051447078102563), (2373, 0.0), (2374, 0.0), (2375, 0.12038585308576921), (2376, 0.0), (2377, 0.03849001794597506), (2378, 0.0), (2379, 0.0), (2380, 0.11111111111111113), (2381, 0.03703703703703704), (2382, 0.04536092116265145), (2383, 0.0), (2384, 0.0), (2385, 0.0), (2386, 0.08399210511316162), (2387, 0.08206099398622181), (2388, 0.03849001794597506), (2389, 0.12598815766974242), (2390, 0.12309149097933272), (2391, 0.0907218423253029), (2392, 0.0), (2393, 0.0), (2394, 0.09335200560186732), (2395, 0.0), (2396, 0.0), (2397, 0.040128617695256406), (2398, 0.040128617695256406), (2399, 0.0), (2400, 0.041030496993110906), (2401, 0.04536092116265145), (2402, 0.03849001794597506), (2403, 0.3774256780481986), (2404, 0.0), (2405, 0.03928371006591931), (2406, 0.04303314829119352), (2407, 0.0), (2408, 0.0), (2409, 0.0), (2410, 0.09335200560186732), (2411, 0.0), (2412, 0.041030496993110906), (2413, 0.0), (2414, 0.0), (2415, 0.0), (2416, 0.03774256780481986), (2417, 0.0), (2418, 0.048112522432468816), (2419, 0.04303314829119352), (2420, 0.0), (2421, 0.0), (2422, 0.0), (2423, 0.0), (2424, 0.03774256780481986), (2425, 0.0), (2426, 0.0), (2427, 0.05337605126836238), (2428, 0.0), (2429, 0.04536092116265145), (2430, 0.0), (2431, 0.0), (2432, 0.0), (2433, 0.15396007178390023), (2434, 0.0), (2435, 0.07548513560963972), (2436, 0.0), (2437, 0.055555555555555566), (2438, 0.041030496993110906), (2439, 0.04199605255658081), (2440, 0.0), (2441, 0.0), (2442, 0.17568209223157663), (2443, 0.04199605255658081), (2444, 0.22645540682891915), (2445, 0.0), (2446, 0.0), (2447, 0.0), (2448, 0.0), (2449, 0.0), (2450, 0.08206099398622181), (2451, 0.0), (2452, 0.0), (2453, 0.0), (2454, 0.0), (2455, 0.0), (2456, 0.04536092116265145), (2457, 0.041030496993110906), (2458, 0.03928371006591931), (2459, 0.03703703703703704), (2460, 0.0), (2461, 0.0), (2462, 0.0), (2463, 0.0), (2464, 0.04667600280093366), (2465, 0.08025723539051281), (2466, 0.04667600280093366), (2467, 0.0), (2468, 0.0), (2469, 0.03253000243161777), (2470, 0.036369648372665396), (2471, 0.04303314829119352), (2472, 0.0), (2473, 0.0), (2474, 0.08830215713766958), (2475, 0.0), (2476, 0.03703703703703704), (2477, 0.0), (2478, 0.0), (2479, 0.03703703703703704), (2480, 0.0), (2481, 0.0), (2482, 0.08606629658238704), (2483, 0.0), (2484, 0.07698003589195011), (2485, 0.0), (2486, 0.10910894511799618), (2487, 0.0), (2488, 0.0), (2489, 0.08206099398622181), (2490, 0.12038585308576921), (2491, 0.0), (2492, 0.16412198797244362), (2493, 0.03849001794597506), (2494, 0.04536092116265145), (2495, 0.03849001794597506), (2496, 0.0), (2497, 0.0), (2498, 0.0), (2499, 0.040128617695256406), (2500, 0.08830215713766958), (2501, 0.0), (2502, 0.0), (2503, 0.0), (2504, 0.0), (2505, 0.04415107856883479), (2506, 0.0907218423253029), (2507, 0.0), (2508, 0.040128617695256406), (2509, 0.12309149097933272), (2510, 0.04199605255658081), (2511, 0.0), (2512, 0.0), (2513, 0.0), (2514, 0.07273929674533079), (2515, 0.11322770341445959), (2516, 0.03928371006591931), (2517, 0.0), (2518, 0.0), (2519, 0.0), (2520, 0.0), (2521, 0.07147416898918632), (2522, 0.07698003589195011), (2523, 0.0), (2524, 0.0), (2525, 0.0), (2526, 0.0), (2527, 0.03849001794597506), (2528, 0.0), (2529, 0.07856742013183862), (2530, 0.04303314829119352), (2531, 0.0), (2532, 0.0), (2533, 0.041030496993110906), (2534, 0.0), (2535, 0.0), (2536, 0.03849001794597506), (2537, 0.041030496993110906), (2538, 0.0), (2539, 0.0), (2540, 0.040128617695256406), (2541, 0.12038585308576921), (2542, 0.0), (2543, 0.08206099398622181), (2544, 0.0), (2545, 0.0), (2546, 0.041030496993110906), (2547, 0.07856742013183862), (2548, 0.0), (2549, 0.0), (2550, 0.11785113019775793), (2551, 0.0), (2552, 0.040128617695256406), (2553, 0.0), (2554, 0.0), (2555, 0.0), (2556, 0.06700252101728081), (2557, 0.0), (2558, 0.03774256780481986), (2559, 0.0), (2560, 0.0), (2561, 0.06913011298202835), (2562, 0.0), (2563, 0.0), (2564, 0.03849001794597506), (2565, 0.036369648372665396), (2566, 0.0), (2567, 0.040128617695256406), (2568, 0.03849001794597506), (2569, 0.0), (2570, 0.0), (2571, 0.08206099398622181), (2572, 0.0), (2573, 0.08206099398622181), (2574, 0.0), (2575, 0.0), (2576, 0.0), (2577, 0.13608276348795437), (2578, 0.14547859349066158), (2579, 0.03928371006591931), (2580, 0.0), (2581, 0.12598815766974242), (2582, 0.0), (2583, 0.04536092116265145), (2584, 0.041030496993110906), (2585, 0.04303314829119352), (2586, 0.08399210511316162), (2587, 0.04199605255658081), (2588, 0.0), (2589, 0.0), (2590, 0.10369516947304253), (2591, 0.0), (2592, 0.1301200097264711), (2593, 0.0), (2594, 0.0), (2595, 0.0), (2596, 0.0), (2597, 0.06913011298202835), (2598, 0.04303314829119352), (2599, 0.0), (2600, 0.0), (2601, 0.0), (2602, 0.041030496993110906), (2603, 0.0), (2604, 0.0), (2605, 0.08025723539051281), (2606, 0.03774256780481986), (2607, 0.0), (2608, 0.0), (2609, 0.08025723539051281), (2610, 0.0), (2611, 0.048112522432468816), (2612, 0.0), (2613, 0.0), (2614, 0.049690399499995326), (2615, 0.0), (2616, 0.0), (2617, 0.04415107856883479), (2618, 0.0), (2619, 0.0), (2620, 0.0), (2621, 0.0), (2622, 0.0), (2623, 0.03163859985841663), (2624, 0.0), (2625, 0.08025723539051281), (2626, 0.0), (2627, 0.0), (2628, 0.03456505649101418), (2629, 0.0), (2630, 0.08025723539051281), (2631, 0.0), (2632, 0.0), (2633, 0.11322770341445959), (2634, 0.0), (2635, 0.0), (2636, 0.08206099398622181), (2637, 0.0), (2638, 0.11111111111111113), (2639, 0.12309149097933272), (2640, 0.0), (2641, 0.03849001794597506), (2642, 0.03928371006591931), (2643, 0.0), (2644, 0.0907218423253029), (2645, 0.07698003589195011), (2646, 0.05337605126836238), (2647, 0.0), (2648, 0.04667600280093366), (2649, 0.049690399499995326), (2650, 0.12598815766974242), (2651, 0.03849001794597506), (2652, 0.04667600280093366), (2653, 0.04667600280093366), (2654, 0.11785113019775793), (2655, 0.12909944487358055), (2656, 0.0), (2657, 0.03849001794597506), (2658, 0.0), (2659, 0.07548513560963972), (2660, 0.0), (2661, 0.0), (2662, 0.04536092116265145), (2663, 0.0), (2664, 0.0), (2665, 0.0), (2666, 0.0), (2667, 0.0), (2668, 0.0), (2669, 0.040128617695256406), (2670, 0.0), (2671, 0.03928371006591931), (2672, 0.0), (2673, 0.0), (2674, 0.0), (2675, 0.08025723539051281), (2676, 0.0), (2677, 0.0), (2678, 0.11322770341445959), (2679, 0.0), (2680, 0.0), (2681, 0.07698003589195011), (2682, 0.0), (2683, 0.08399210511316162), (2684, 0.0), (2685, 0.03928371006591931), (2686, 0.04303314829119352), (2687, 0.0), (2688, 0.041030496993110906), (2689, 0.0), (2690, 0.0), (2691, 0.07698003589195011), (2692, 0.0), (2693, 0.0), (2694, 0.0), (2695, 0.0), (2696, 0.30792014356780045), (2697, 0.0), (2698, 0.0), (2699, 0.0), (2700, 0.0), (2701, 0.0), (2702, 0.04199605255658081), (2703, 0.0), (2704, 0.03928371006591931), (2705, 0.04199605255658081), (2706, 0.04303314829119352), (2707, 0.0), (2708, 0.14433756729740643), (2709, 0.0), (2710, 0.0), (2711, 0.0), (2712, 0.08025723539051281), (2713, 0.03928371006591931), (2714, 0.0), (2715, 0.0), (2716, 0.0), (2717, 0.04199605255658081), (2718, 0.0), (2719, 0.0), (2720, 0.0), (2721, 0.0), (2722, 0.04415107856883479), (2723, 0.0), (2724, 0.04199605255658081), (2725, 0.0), (2726, 0.07698003589195011), (2727, 0.07407407407407408), (2728, 0.048112522432468816), (2729, 0.0), (2730, 0.0), (2731, 0.0), (2732, 0.0), (2733, 0.0), (2734, 0.0), (2735, 0.0), (2736, 0.07273929674533079), (2737, 0.0), (2738, 0.0), (2739, 0.0), (2740, 0.0), (2741, 0.0), (2742, 0.0), (2743, 0.08025723539051281), (2744, 0.0), (2745, 0.0), (2746, 0.08025723539051281), (2747, 0.07147416898918632), (2748, 0.08399210511316162), (2749, 0.0), (2750, 0.04199605255658081), (2751, 0.07856742013183862), (2752, 0.08399210511316162), (2753, 0.07698003589195011), (2754, 0.0), (2755, 0.13245323570650436), (2756, 0.0), (2757, 0.14294833797837264), (2758, 0.10721125348377948), (2759, 0.0), (2760, 0.0), (2761, 0.0), (2762, 0.040128617695256406), (2763, 0.04415107856883479), (2764, 0.0), (2765, 0.0), (2766, 0.040128617695256406), (2767, 0.0), (2768, 0.0), (2769, 0.0), (2770, 0.0), (2771, 0.0), (2772, 0.0), (2773, 0.0), (2774, 0.0), (2775, 0.040128617695256406), (2776, 0.04415107856883479), (2777, 0.07273929674533079), (2778, 0.08606629658238704), (2779, 0.0), (2780, 0.0), (2781, 0.12309149097933272), (2782, 0.0561434614044346), (2783, 0.0), (2784, 0.05869672708837492), (2785, 0.0907218423253029), (2786, 0.0), (2787, 0.06700252101728081), (2788, 0.0), (2789, 0.0), (2790, 0.03573708449459316), (2791, 0.09335200560186732), (2792, 0.04199605255658081), (2793, 0.0), (2794, 0.040128617695256406), (2795, 0.0), (2796, 0.03928371006591931), (2797, 0.0), (2798, 0.07698003589195011), (2799, 0.0), (2800, 0.0), (2801, 0.0), (2802, 0.0), (2803, 0.1382602259640567), (2804, 0.0), (2805, 0.03928371006591931), (2806, 0.1301200097264711), (2807, 0.0), (2808, 0.0), (2809, 0.041030496993110906), (2810, 0.0), (2811, 0.0), (2812, 0.08399210511316162), (2813, 0.0), (2814, 0.0), (2815, 0.1924500897298753), (2816, 0.0), (2817, 0.11547005383792516), (2818, 0.0), (2819, 0.07856742013183862), (2820, 0.0), (2821, 0.0), (2822, 0.0), (2823, 0.04536092116265145), (2824, 0.08025723539051281), (2825, 0.0), (2826, 0.15713484026367724), (2827, 0.16412198797244362), (2828, 0.0), (2829, 0.11547005383792516), (2830, 0.0), (2831, 0.07856742013183862), (2832, 0.0), (2833, 0.0), (2834, 0.0), (2835, 0.07698003589195011), (2836, 0.0), (2837, 0.0), (2838, 0.041030496993110906), (2839, 0.0), (2840, 0.0), (2841, 0.08399210511316162), (2842, 0.0), (2843, 0.04415107856883479), (2844, 0.0), (2845, 0.12038585308576921), (2846, 0.03928371006591931), (2847, 0.0), (2848, 0.0), (2849, 0.04199605255658081), (2850, 0.0), (2851, 0.140028008402801), (2852, 0.0), (2853, 0.04199605255658081), (2854, 0.0), (2855, 0.0), (2856, 0.04536092116265145), (2857, 0.0), (2858, 0.0), (2859, 0.0), (2860, 0.11322770341445959), (2861, 0.0), (2862, 0.08025723539051281), (2863, 0.07856742013183862), (2864, 0.0), (2865, 0.11547005383792516), (2866, 0.0), (2867, 0.051434449987363975), (2868, 0.16051447078102563), (2869, 0.0), (2870, 0.0), (2871, 0.0), (2872, 0.0), (2873, 0.0), (2874, 0.0), (2875, 0.04415107856883479), (2876, 0.03703703703703704), (2877, 0.06913011298202835), (2878, 0.049690399499995326), (2879, 0.0), (2880, 0.0), (2881, 0.0), (2882, 0.0), (2883, 0.04667600280093366), (2884, 0.10369516947304253), (2885, 0.0), (2886, 0.040128617695256406), (2887, 0.0), (2888, 0.10369516947304253), (2889, 0.04415107856883479), (2890, 0.04415107856883479), (2891, 0.0), (2892, 0.049690399499995326), (2893, 0.0), (2894, 0.07856742013183862), (2895, 0.0), (2896, 0.0), (2897, 0.08206099398622181), (2898, 0.12655439943366653), (2899, 0.0907218423253029), (2900, 0.09335200560186732), (2901, 0.08025723539051281), (2902, 0.0), (2903, 0.0), (2904, 0.0), (2905, 0.0), (2906, 0.0), (2907, 0.0), (2908, 0.0), (2909, 0.051434449987363975), (2910, 0.0), (2911, 0.03928371006591931), (2912, 0.16412198797244362), (2913, 0.0), (2914, 0.07407407407407408), (2915, 0.08025723539051281), (2916, 0.0), (2917, 0.0), (2918, 0.04415107856883479), (2919, 0.0), (2920, 0.0), (2921, 0.09622504486493763), (2922, 0.04199605255658081), (2923, 0.08399210511316162), (2924, 0.0), (2925, 0.0), (2926, 0.0), (2927, 0.040128617695256406), (2928, 0.0), (2929, 0.0), (2930, 0.048112522432468816), (2931, 0.04415107856883479), (2932, 0.0), (2933, 0.051434449987363975), (2934, 0.20064308847628204), (2935, 0.0), (2936, 0.041030496993110906), (2937, 0.0), (2938, 0.0), (2939, 0.0), (2940, 0.0), (2941, 0.0), (2942, 0.0), (2943, 0.0), (2944, 0.08606629658238704), (2945, 0.03928371006591931), (2946, 0.0), (2947, 0.041030496993110906), (2948, 0.0), (2949, 0.0), (2950, 0.0), (2951, 0.0), (2952, 0.0), (2953, 0.03573708449459316), (2954, 0.0), (2955, 0.041030496993110906), (2956, 0.0), (2957, 0.08399210511316162), (2958, 0.0), (2959, 0.04536092116265145), (2960, 0.0), (2961, 0.0), (2962, 0.0), (2963, 0.0), (2964, 0.15713484026367724), (2965, 0.0), (2966, 0.11785113019775793), (2967, 0.16051447078102563), (2968, 0.0), (2969, 0.040128617695256406), (2970, 0.0), (2971, 0.0), (2972, 0.04415107856883479), (2973, 0.0), (2974, 0.0), (2975, 0.0), (2976, 0.0), (2977, 0.0), (2978, 0.04415107856883479), (2979, 0.0), (2980, 0.08830215713766958), (2981, 0.0), (2982, 0.0), (2983, 0.0), (2984, 0.0), (2985, 0.0), (2986, 0.11322770341445959), (2987, 0.03928371006591931), (2988, 0.041030496993110906), (2989, 0.0), (2990, 0.0), (2991, 0.14547859349066158), (2992, 0.0), (2993, 0.0), (2994, 0.07407407407407408), (2995, 0.16798421022632323), (2996, 0.12038585308576921), (2997, 0.041030496993110906), (2998, 0.0), (2999, 0.0), (3000, 0.0), (3001, 0.0907218423253029), (3002, 0.08206099398622181), (3003, 0.0), (3004, 0.08025723539051281), (3005, 0.0), (3006, 0.11547005383792516), (3007, 0.08206099398622181), (3008, 0.032075014954979206), (3009, 0.0), (3010, 0.0), (3011, 0.0), (3012, 0.0), (3013, 0.08206099398622181), (3014, 0.08025723539051281), (3015, 0.04303314829119352), (3016, 0.0), (3017, 0.0), (3018, 0.07698003589195011), (3019, 0.0), (3020, 0.051434449987363975), (3021, 0.051434449987363975), (3022, 0.0), (3023, 0.0), (3024, 0.08606629658238704), (3025, 0.0), (3026, 0.0), (3027, 0.0), (3028, 0.0), (3029, 0.033501260508640406), (3030, 0.04199605255658081), (3031, 0.0), (3032, 0.06700252101728081), (3033, 0.11111111111111113), (3034, 0.04199605255658081), (3035, 0.07698003589195011), (3036, 0.0), (3037, 0.051434449987363975), (3038, 0.0), (3039, 0.04199605255658081), (3040, 0.03849001794597506), (3041, 0.0), (3042, 0.0), (3043, 0.04667600280093366), (3044, 0.07698003589195011), (3045, 0.0), (3046, 0.0), (3047, 0.0), (3048, 0.04303314829119352), (3049, 0.0), (3050, 0.0), (3051, 0.09335200560186732), (3052, 0.040128617695256406), (3053, 0.0), (3054, 0.0), (3055, 0.07548513560963972), (3056, 0.08399210511316162), (3057, 0.0), (3058, 0.0), (3059, 0.0), (3060, 0.0), (3061, 0.0), (3062, 0.08206099398622181), (3063, 0.0), (3064, 0.0), (3065, 0.04303314829119352), (3066, 0.0), (3067, 0.049690399499995326), (3068, 0.11322770341445959), (3069, 0.0), (3070, 0.0), (3071, 0.0), (3072, 0.0907218423253029), (3073, 0.03774256780481986), (3074, 0.03573708449459316), (3075, 0.0), (3076, 0.0), (3077, 0.048112522432468816), (3078, 0.0), (3079, 0.048112522432468816), (3080, 0.0), (3081, 0.0), (3082, 0.040128617695256406), (3083, 0.0), (3084, 0.0), (3085, 0.0), (3086, 0.03928371006591931), (3087, 0.09622504486493763), (3088, 0.0), (3089, 0.14433756729740643), (3090, 0.041030496993110906), (3091, 0.0), (3092, 0.0), (3093, 0.0), (3094, 0.0), (3095, 0.0), (3096, 0.0), (3097, 0.0), (3098, 0.08399210511316162), (3099, 0.10910894511799618), (3100, 0.0), (3101, 0.0), (3102, 0.0), (3103, 0.0), (3104, 0.0), (3105, 0.13245323570650436), (3106, 0.041030496993110906), (3107, 0.0), (3108, 0.0), (3109, 0.0), (3110, 0.04303314829119352), (3111, 0.0), (3112, 0.0), (3113, 0.041030496993110906), (3114, 0.0), (3115, 0.0), (3116, 0.0), (3117, 0.0), (3118, 0.0), (3119, 0.0), (3120, 0.0), (3121, 0.0), (3122, 0.0), (3123, 0.0), (3124, 0.03573708449459316), (3125, 0.0), (3126, 0.04536092116265145), (3127, 0.0), (3128, 0.04199605255658081), (3129, 0.04667600280093366), (3130, 0.04667600280093366), (3131, 0.0), (3132, 0.0), (3133, 0.11111111111111113), (3134, 0.0), (3135, 0.0), (3136, 0.07548513560963972), (3137, 0.0), (3138, 0.03928371006591931), (3139, 0.0), (3140, 0.0), (3141, 0.041030496993110906), (3142, 0.04415107856883479), (3143, 0.07856742013183862), (3144, 0.04667600280093366), (3145, 0.0), (3146, 0.0), (3147, 0.08025723539051281), (3148, 0.08399210511316162), (3149, 0.0), (3150, 0.07856742013183862), (3151, 0.08399210511316162), (3152, 0.04303314829119352), (3153, 0.08399210511316162), (3154, 0.049690399499995326), (3155, 0.07147416898918632), (3156, 0.0), (3157, 0.0), (3158, 0.33333333333333337), (3159, 0.0), (3160, 0.0), (3161, 0.0), (3162, 0.08025723539051281), (3163, 0.08025723539051281), (3164, 0.0), (3165, 0.03928371006591931), (3166, 0.0), (3167, 0.0), (3168, 0.0), (3169, 0.04199605255658081), (3170, 0.0), (3171, 0.036369648372665396), (3172, 0.048112522432468816), (3173, 0.0), (3174, 0.0), (3175, 0.03573708449459316), (3176, 0.0), (3177, 0.1405456737852613), (3178, 0.0), (3179, 0.0), (3180, 0.08025723539051281), (3181, 0.0), (3182, 0.0), (3183, 0.040128617695256406), (3184, 0.23094010767585033), (3185, 0.0), (3186, 0.0), (3187, 0.0), (3188, 0.0), (3189, 0.0), (3190, 0.0), (3191, 0.04415107856883479), (3192, 0.0), (3193, 0.0), (3194, 0.051434449987363975), (3195, 0.0), (3196, 0.0), (3197, 0.07548513560963972), (3198, 0.040128617695256406), (3199, 0.0), (3200, 0.0), (3201, 0.041030496993110906), (3202, 0.12598815766974242), (3203, 0.09938079899999065), (3204, 0.12038585308576921), (3205, 0.048112522432468816), (3206, 0.0), (3207, 0.0), (3208, 0.3464101615137755), (3209, 0.03849001794597506), (3210, 0.0), (3211, 0.0), (3212, 0.0), (3213, 0.0), (3214, 0.15396007178390023), (3215, 0.041030496993110906), (3216, 0.0), (3217, 0.0), (3218, 0.0), (3219, 0.0), (3220, 0.0), (3221, 0.03928371006591931), (3222, 0.0), (3223, 0.0), (3224, 0.10286889997472795), (3225, 0.051434449987363975), (3226, 0.0), (3227, 0.07027283689263066), (3228, 0.0), (3229, 0.0), (3230, 0.08606629658238704), (3231, 0.11785113019775793), (3232, 0.0), (3233, 0.08606629658238704), (3234, 0.0), (3235, 0.0), (3236, 0.03774256780481986), (3237, 0.04667600280093366), (3238, 0.0), (3239, 0.0), (3240, 0.07698003589195011), (3241, 0.0), (3242, 0.0), (3243, 0.0), (3244, 0.0), (3245, 0.0), (3246, 0.0), (3247, 0.0), (3248, 0.0), (3249, 0.036369648372665396), (3250, 0.0), (3251, 0.07856742013183862), (3252, 0.03849001794597506), (3253, 0.03928371006591931), (3254, 0.0), (3255, 0.0), (3256, 0.0), (3257, 0.0), (3258, 0.0), (3259, 0.041030496993110906), (3260, 0.041030496993110906), (3261, 0.04536092116265145), (3262, 0.03849001794597506), (3263, 0.0), (3264, 0.0), (3265, 0.0), (3266, 0.0), (3267, 0.0), (3268, 0.0), (3269, 0.0), (3270, 0.033501260508640406), (3271, 0.0), (3272, 0.0), (3273, 0.0), (3274, 0.04303314829119352), (3275, 0.0), (3276, 0.0), (3277, 0.04199605255658081), (3278, 0.0), (3279, 0.04415107856883479), (3280, 0.049690399499995326), (3281, 0.041030496993110906), (3282, 0.0), (3283, 0.0), (3284, 0.048112522432468816), (3285, 0.08399210511316162), (3286, 0.0), (3287, 0.049690399499995326), (3288, 0.0), (3289, 0.0), (3290, 0.041030496993110906), (3291, 0.0), (3292, 0.0), (3293, 0.07856742013183862), (3294, 0.040128617695256406), (3295, 0.0), (3296, 0.07856742013183862), (3297, 0.03849001794597506), (3298, 0.0), (3299, 0.09335200560186732), (3300, 0.0), (3301, 0.0), (3302, 0.0), (3303, 0.0), (3304, 0.10286889997472795), (3305, 0.15396007178390023), (3306, 0.049690399499995326), (3307, 0.0), (3308, 0.0), (3309, 0.07548513560963972), (3310, 0.04415107856883479), (3311, 0.08025723539051281), (3312, 0.0), (3313, 0.0), (3314, 0.0), (3315, 0.0), (3316, 0.041030496993110906), (3317, 0.0), (3318, 0.08399210511316162), (3319, 0.051434449987363975), (3320, 0.0), (3321, 0.0), (3322, 0.0), (3323, 0.12038585308576921), (3324, 0.0), (3325, 0.0), (3326, 0.048112522432468816), (3327, 0.0), (3328, 0.03928371006591931), (3329, 0.08830215713766958), (3330, 0.0), (3331, 0.0), (3332, 0.04415107856883479), (3333, 0.0), (3334, 0.0), (3335, 0.049690399499995326), (3336, 0.07698003589195011), (3337, 0.036369648372665396), (3338, 0.0), (3339, 0.0), (3340, 0.04303314829119352), (3341, 0.0), (3342, 0.0), (3343, 0.11785113019775793), (3344, 0.0), (3345, 0.0), (3346, 0.0), (3347, 0.0), (3348, 0.0), (3349, 0.08206099398622181), (3350, 0.14294833797837264), (3351, 0.07548513560963972), (3352, 0.07273929674533079), (3353, 0.04415107856883479), (3354, 0.051434449987363975), (3355, 0.048112522432468816), (3356, 0.0), (3357, 0.0), (3358, 0.0), (3359, 0.048112522432468816), (3360, 0.0), (3361, 0.140028008402801), (3362, 0.0), (3363, 0.0), (3364, 0.08206099398622181), (3365, 0.0), (3366, 0.0), (3367, 0.0), (3368, 0.0), (3369, 0.0), (3370, 0.07407407407407408), (3371, 0.0), (3372, 0.12309149097933272), (3373, 0.0907218423253029), (3374, 0.03928371006591931), (3375, 0.0), (3376, 0.0), (3377, 0.09335200560186732), (3378, 0.0), (3379, 0.0), (3380, 0.0), (3381, 0.04415107856883479), (3382, 0.03774256780481986), (3383, 0.0), (3384, 0.0), (3385, 0.12038585308576921), (3386, 0.09901475429766741), (3387, 0.03849001794597506), (3388, 0.0), (3389, 0.0), (3390, 0.0), (3391, 0.0), (3392, 0.048112522432468816), (3393, 0.0), (3394, 0.0), (3395, 0.0), (3396, 0.09335200560186732), (3397, 0.04415107856883479), (3398, 0.0), (3399, 0.03703703703703704), (3400, 0.0), (3401, 0.0), (3402, 0.051434449987363975), (3403, 0.04303314829119352), (3404, 0.0), (3405, 0.20515248496555455), (3406, 0.03928371006591931), (3407, 0.0), (3408, 0.0), (3409, 0.0), (3410, 0.0), (3411, 0.0), (3412, 0.048112522432468816), (3413, 0.0), (3414, 0.041030496993110906), (3415, 0.0), (3416, 0.04667600280093366), (3417, 0.07147416898918632), (3418, 0.0), (3419, 0.0), (3420, 0.03703703703703704), (3421, 0.0), (3422, 0.0), (3423, 0.0), (3424, 0.11322770341445959), (3425, 0.0), (3426, 0.0), (3427, 0.12038585308576921), (3428, 0.0), (3429, 0.040128617695256406), (3430, 0.03849001794597506), (3431, 0.0), (3432, 0.051434449987363975), (3433, 0.0), (3434, 0.0), (3435, 0.0), (3436, 0.04303314829119352), (3437, 0.09622504486493763), (3438, 0.08206099398622181), (3439, 0.19641855032959654), (3440, 0.0), (3441, 0.0), (3442, 0.041030496993110906), (3443, 0.0), (3444, 0.0), (3445, 0.11785113019775793), (3446, 0.03703703703703704), (3447, 0.0), (3448, 0.036369648372665396), (3449, 0.0), (3450, 0.0), (3451, 0.0), (3452, 0.0), (3453, 0.0), (3454, 0.040128617695256406), (3455, 0.04415107856883479), (3456, 0.0), (3457, 0.0), (3458, 0.0), (3459, 0.0), (3460, 0.15713484026367724), (3461, 0.0), (3462, 0.0), (3463, 0.04199605255658081), (3464, 0.0), (3465, 0.0), (3466, 0.07548513560963972), (3467, 0.0), (3468, 0.04536092116265145), (3469, 0.0), (3470, 0.0), (3471, 0.0), (3472, 0.0), (3473, 0.0), (3474, 0.07548513560963972), (3475, 0.0), (3476, 0.0), (3477, 0.03849001794597506), (3478, 0.0), (3479, 0.04199605255658081), (3480, 0.0), (3481, 0.0), (3482, 0.0), (3483, 0.041030496993110906), (3484, 0.11111111111111113), (3485, 0.051434449987363975), (3486, 0.0), (3487, 0.0), (3488, 0.0), (3489, 0.0), (3490, 0.08399210511316162), (3491, 0.0), (3492, 0.03774256780481986), (3493, 0.04667600280093366), (3494, 0.1851851851851852), (3495, 0.0), (3496, 0.0), (3497, 0.0), (3498, 0.0), (3499, 0.0), (3500, 0.10286889997472795), (3501, 0.0), (3502, 0.0), (3503, 0.0), (3504, 0.0), (3505, 0.08606629658238704), (3506, 0.0), (3507, 0.0), (3508, 0.0), (3509, 0.049690399499995326), (3510, 0.0), (3511, 0.11322770341445959), (3512, 0.0), (3513, 0.0), (3514, 0.08025723539051281), (3515, 0.0), (3516, 0.11111111111111113), (3517, 0.0), (3518, 0.04199605255658081), (3519, 0.0), (3520, 0.07856742013183862), (3521, 0.049690399499995326), (3522, 0.07856742013183862), (3523, 0.051434449987363975), (3524, 0.0), (3525, 0.0), (3526, 0.0), (3527, 0.0), (3528, 0.0), (3529, 0.0), (3530, 0.0), (3531, 0.0), (3532, 0.0), (3533, 0.0), (3534, 0.20515248496555452), (3535, 0.0), (3536, 0.0), (3537, 0.041030496993110906), (3538, 0.08025723539051281), (3539, 0.08606629658238704), (3540, 0.0), (3541, 0.0), (3542, 0.0), (3543, 0.03703703703703704), (3544, 0.0), (3545, 0.04199605255658081), (3546, 0.0), (3547, 0.0), (3548, 0.0), (3549, 0.08399210511316162), (3550, 0.0), (3551, 0.0), (3552, 0.12038585308576921), (3553, 0.04199605255658081), (3554, 0.04303314829119352), (3555, 0.0), (3556, 0.07698003589195011), (3557, 0.0), (3558, 0.0), (3559, 0.0), (3560, 0.0), (3561, 0.0), (3562, 0.0), (3563, 0.0), (3564, 0.0), (3565, 0.0), (3566, 0.0), (3567, 0.0), (3568, 0.16412198797244362), (3569, 0.0), (3570, 0.0), (3571, 0.0), (3572, 0.0), (3573, 0.04199605255658081), (3574, 0.04536092116265145), (3575, 0.0), (3576, 0.03849001794597506), (3577, 0.08830215713766958), (3578, 0.0), (3579, 0.041030496993110906), (3580, 0.0), (3581, 0.0), (3582, 0.0), (3583, 0.0), (3584, 0.12038585308576921), (3585, 0.0), (3586, 0.0), (3587, 0.04303314829119352), (3588, 0.0), (3589, 0.0), (3590, 0.0), (3591, 0.048112522432468816), (3592, 0.0), (3593, 0.07856742013183862), (3594, 0.03849001794597506), (3595, 0.0), (3596, 0.0), (3597, 0.0), (3598, 0.0), (3599, 0.0), (3600, 0.0), (3601, 0.0), (3602, 0.0), (3603, 0.03849001794597506), (3604, 0.07698003589195011), (3605, 0.0), (3606, 0.041030496993110906), (3607, 0.09335200560186732), (3608, 0.041030496993110906), (3609, 0.0), (3610, 0.0), (3611, 0.041030496993110906), (3612, 0.0), (3613, 0.11322770341445959), (3614, 0.0), (3615, 0.0), (3616, 0.07273929674533079), (3617, 0.08399210511316162), (3618, 0.12598815766974242), (3619, 0.0), (3620, 0.0), (3621, 0.0), (3622, 0.0), (3623, 0.04415107856883479), (3624, 0.16051447078102563), (3625, 0.0), (3626, 0.0), (3627, 0.0), (3628, 0.0), (3629, 0.0), (3630, 0.08206099398622181), (3631, 0.04415107856883479), (3632, 0.0), (3633, 0.0), (3634, 0.0), (3635, 0.0), (3636, 0.0), (3637, 0.0), (3638, 0.04199605255658081), (3639, 0.0), (3640, 0.0), (3641, 0.0), (3642, 0.17213259316477408), (3643, 0.0), (3644, 0.0), (3645, 0.0), (3646, 0.0), (3647, 0.0), (3648, 0.0), (3649, 0.0), (3650, 0.04415107856883479), (3651, 0.0), (3652, 0.09335200560186732), (3653, 0.0), (3654, 0.08206099398622181), (3655, 0.048112522432468816), (3656, 0.08606629658238704), (3657, 0.0), (3658, 0.040128617695256406), (3659, 0.08399210511316162), (3660, 0.0), (3661, 0.0), (3662, 0.0), (3663, 0.0), (3664, 0.04303314829119352), (3665, 0.0), (3666, 0.0), (3667, 0.12038585308576921), (3668, 0.20998026278290405), (3669, 0.0), (3670, 0.0), (3671, 0.03703703703703704), (3672, 0.04199605255658081), (3673, 0.0), (3674, 0.0), (3675, 0.0), (3676, 0.0), (3677, 0.0), (3678, 0.0), (3679, 0.0), (3680, 0.0), (3681, 0.04303314829119352), (3682, 0.0), (3683, 0.0), (3684, 0.08399210511316162), (3685, 0.0), (3686, 0.0), (3687, 0.0), (3688, 0.0), (3689, 0.040128617695256406), (3690, 0.0), (3691, 0.0), (3692, 0.04536092116265145), (3693, 0.0), (3694, 0.0), (3695, 0.040128617695256406), (3696, 0.03774256780481986), (3697, 0.0), (3698, 0.08206099398622181), (3699, 0.0), (3700, 0.0), (3701, 0.0), (3702, 0.048112522432468816), (3703, 0.0), (3704, 0.08399210511316162), (3705, 0.0), (3706, 0.03573708449459316), (3707, 0.04667600280093366), (3708, 0.0), (3709, 0.0), (3710, 0.0), (3711, 0.0), (3712, 0.0), (3713, 0.0), (3714, 0.049690399499995326), (3715, 0.16412198797244362), (3716, 0.0), (3717, 0.0), (3718, 0.0), (3719, 0.0), (3720, 0.051434449987363975), (3721, 0.0), (3722, 0.11547005383792516), (3723, 0.0), (3724, 0.0907218423253029), (3725, 0.04303314829119352), (3726, 0.04303314829119352), (3727, 0.0), (3728, 0.0), (3729, 0.0), (3730, 0.2592592592592593), (3731, 0.0), (3732, 0.0), (3733, 0.08606629658238704), (3734, 0.03849001794597506), (3735, 0.0), (3736, 0.09335200560186732), (3737, 0.0), (3738, 0.0), (3739, 0.0), (3740, 0.04303314829119352), (3741, 0.0), (3742, 0.0), (3743, 0.0), (3744, 0.0), (3745, 0.0), (3746, 0.0), (3747, 0.0), (3748, 0.0), (3749, 0.11547005383792516), (3750, 0.14814814814814817), (3751, 0.0), (3752, 0.0), (3753, 0.0), (3754, 0.0), (3755, 0.036369648372665396), (3756, 0.049690399499995326), (3757, 0.0), (3758, 0.041030496993110906), (3759, 0.0), (3760, 0.04415107856883479), (3761, 0.0), (3762, 0.0), (3763, 0.040128617695256406), (3764, 0.08025723539051281), (3765, 0.0), (3766, 0.0), (3767, 0.08399210511316162), (3768, 0.0), (3769, 0.0), (3770, 0.0), (3771, 0.0), (3772, 0.0), (3773, 0.0), (3774, 0.041030496993110906), (3775, 0.08830215713766958), (3776, 0.0), (3777, 0.0907218423253029), (3778, 0.0), (3779, 0.0), (3780, 0.0), (3781, 0.0), (3782, 0.04199605255658081), (3783, 0.0), (3784, 0.0), (3785, 0.0), (3786, 0.0), (3787, 0.0), (3788, 0.0), (3789, 0.0), (3790, 0.0), (3791, 0.13245323570650436), (3792, 0.048112522432468816), (3793, 0.0), (3794, 0.0), (3795, 0.12309149097933272), (3796, 0.049690399499995326), (3797, 0.0), (3798, 0.051434449987363975), (3799, 0.08399210511316162), (3800, 0.12038585308576921), (3801, 0.0), (3802, 0.0), (3803, 0.0), (3804, 0.14294833797837264), (3805, 0.0), (3806, 0.0), (3807, 0.0), (3808, 0.0), (3809, 0.0), (3810, 0.041030496993110906), (3811, 0.0), (3812, 0.0), (3813, 0.07027283689263066), (3814, 0.0), (3815, 0.15713484026367724), (3816, 0.04199605255658081), (3817, 0.0), (3818, 0.0), (3819, 0.041030496993110906), (3820, 0.0), (3821, 0.0), (3822, 0.040128617695256406), (3823, 0.0), (3824, 0.0), (3825, 0.0), (3826, 0.08025723539051281), (3827, 0.0), (3828, 0.040128617695256406), (3829, 0.0), (3830, 0.08399210511316162), (3831, 0.0), (3832, 0.0), (3833, 0.04199605255658081), (3834, 0.0), (3835, 0.0), (3836, 0.055555555555555566), (3837, 0.03456505649101418), (3838, 0.0), (3839, 0.0), (3840, 0.0), (3841, 0.08206099398622181), (3842, 0.04415107856883479), (3843, 0.0), (3844, 0.0), (3845, 0.08206099398622181), (3846, 0.0), (3847, 0.0), (3848, 0.040128617695256406), (3849, 0.04303314829119352), (3850, 0.0), (3851, 0.04199605255658081), (3852, 0.051434449987363975), (3853, 0.0), (3854, 0.08025723539051281), (3855, 0.0), (3856, 0.12909944487358055), (3857, 0.09938079899999065), (3858, 0.04536092116265145), (3859, 0.0), (3860, 0.0), (3861, 0.0), (3862, 0.0), (3863, 0.0), (3864, 0.03928371006591931), (3865, 0.0), (3866, 0.0), (3867, 0.0), (3868, 0.0), (3869, 0.040128617695256406), (3870, 0.0), (3871, 0.0), (3872, 0.0), (3873, 0.036369648372665396), (3874, 0.0), (3875, 0.0), (3876, 0.0), (3877, 0.0), (3878, 0.041030496993110906), (3879, 0.0), (3880, 0.0), (3881, 0.0), (3882, 0.04536092116265145), (3883, 0.0), (3884, 0.07147416898918632), (3885, 0.12309149097933272), (3886, 0.08025723539051281), (3887, 0.0), (3888, 0.0), (3889, 0.0), (3890, 0.0), (3891, 0.0), (3892, 0.0), (3893, 0.0), (3894, 0.04199605255658081), (3895, 0.11785113019775793), (3896, 0.03849001794597506), (3897, 0.0), (3898, 0.0), (3899, 0.16798421022632323), (3900, 0.0), (3901, 0.12038585308576921), (3902, 0.0), (3903, 0.11785113019775793), (3904, 0.08606629658238704), (3905, 0.0), (3906, 0.0), (3907, 0.03513641844631533), (3908, 0.04415107856883479), (3909, 0.0), (3910, 0.0), (3911, 0.0), (3912, 0.048112522432468816), (3913, 0.0), (3914, 0.040128617695256406), (3915, 0.0), (3916, 0.0), (3917, 0.0), (3918, 0.0), (3919, 0.04667600280093366), (3920, 0.15713484026367724), (3921, 0.0), (3922, 0.0), (3923, 0.0), (3924, 0.0), (3925, 0.0), (3926, 0.0), (3927, 0.0), (3928, 0.03928371006591931), (3929, 0.13608276348795437), (3930, 0.0), (3931, 0.041030496993110906), (3932, 0.0), (3933, 0.0), (3934, 0.0), (3935, 0.0), (3936, 0.0), (3937, 0.0), (3938, 0.0), (3939, 0.0), (3940, 0.03513641844631533), (3941, 0.04199605255658081), (3942, 0.04199605255658081), (3943, 0.049690399499995326), (3944, 0.0), (3945, 0.08830215713766958), (3946, 0.0), (3947, 0.0), (3948, 0.09335200560186732), (3949, 0.0), (3950, 0.0), (3951, 0.0), (3952, 0.0), (3953, 0.04667600280093366), (3954, 0.0), (3955, 0.0), (3956, 0.08206099398622181), (3957, 0.0), (3958, 0.0), (3959, 0.0), (3960, 0.0), (3961, 0.0), (3962, 0.03849001794597506), (3963, 0.0), (3964, 0.0), (3965, 0.041030496993110906), (3966, 0.041030496993110906), (3967, 0.0), (3968, 0.0), (3969, 0.04415107856883479), (3970, 0.0), (3971, 0.0), (3972, 0.049690399499995326), (3973, 0.0), (3974, 0.0), (3975, 0.0), (3976, 0.049690399499995326), (3977, 0.0), (3978, 0.0), (3979, 0.04415107856883479), (3980, 0.0), (3981, 0.0), (3982, 0.08830215713766958), (3983, 0.0), (3984, 0.0), (3985, 0.0), (3986, 0.08025723539051281), (3987, 0.08606629658238704), (3988, 0.17660431427533915), (3989, 0.0), (3990, 0.0), (3991, 0.04415107856883479), (3992, 0.0), (3993, 0.17660431427533915), (3994, 0.03928371006591931), (3995, 0.0), (3996, 0.0907218423253029), (3997, 0.0), (3998, 0.0), (3999, 0.0), (4000, 0.07147416898918632), (4001, 0.0), (4002, 0.0), (4003, 0.07698003589195011), (4004, 0.09335200560186732), (4005, 0.0), (4006, 0.0), (4007, 0.0), (4008, 0.0), (4009, 0.0), (4010, 0.0), (4011, 0.08025723539051281), (4012, 0.12598815766974242), (4013, 0.04199605255658081), (4014, 0.0), (4015, 0.041030496993110906), (4016, 0.03573708449459316), (4017, 0.0), (4018, 0.0), (4019, 0.0), (4020, 0.04199605255658081), (4021, 0.0), (4022, 0.12038585308576921), (4023, 0.0), (4024, 0.036369648372665396), (4025, 0.0), (4026, 0.0), (4027, 0.0), (4028, 0.0), (4029, 0.0), (4030, 0.040128617695256406), (4031, 0.0), (4032, 0.08399210511316162), (4033, 0.08206099398622181), (4034, 0.0), (4035, 0.0), (4036, 0.0), (4037, 0.0), (4038, 0.0), (4039, 0.12038585308576921), (4040, 0.0), (4041, 0.04303314829119352), (4042, 0.16051447078102563), (4043, 0.0), (4044, 0.048112522432468816), (4045, 0.0), (4046, 0.0), (4047, 0.0), (4048, 0.0), (4049, 0.07407407407407408), (4050, 0.0), (4051, 0.0), (4052, 0.0), (4053, 0.0), (4054, 0.0), (4055, 0.049690399499995326), (4056, 0.0), (4057, 0.0), (4058, 0.0), (4059, 0.0), (4060, 0.04667600280093366), (4061, 0.08830215713766958), (4062, 0.07273929674533079), (4063, 0.0), (4064, 0.0), (4065, 0.0), (4066, 0.0), (4067, 0.0), (4068, 0.0), (4069, 0.09335200560186732), (4070, 0.09938079899999065), (4071, 0.07856742013183862), (4072, 0.04199605255658081), (4073, 0.11547005383792516), (4074, 0.0), (4075, 0.0), (4076, 0.03774256780481986), (4077, 0.16051447078102563), (4078, 0.03513641844631533), (4079, 0.0), (4080, 0.0), (4081, 0.0), (4082, 0.0), (4083, 0.0), (4084, 0.036369648372665396), (4085, 0.036369648372665396), (4086, 0.0), (4087, 0.041030496993110906), (4088, 0.0), (4089, 0.0), (4090, 0.0), (4091, 0.0), (4092, 0.0), (4093, 0.08606629658238704), (4094, 0.0), (4095, 0.0), (4096, 0.0), (4097, 0.0), (4098, 0.0), (4099, 0.041030496993110906), (4100, 0.0), (4101, 0.0), (4102, 0.041030496993110906), (4103, 0.03849001794597506), (4104, 0.03928371006591931), (4105, 0.0), (4106, 0.0), (4107, 0.0), (4108, 0.16412198797244362), (4109, 0.08830215713766958), (4110, 0.0), (4111, 0.049690399499995326), (4112, 0.0), (4113, 0.036369648372665396), (4114, 0.12598815766974242), (4115, 0.0), (4116, 0.0), (4117, 0.17660431427533915), (4118, 0.0), (4119, 0.0), (4120, 0.0), (4121, 0.0), (4122, 0.0), (4123, 0.0), (4124, 0.11785113019775793), (4125, 0.10286889997472795), (4126, 0.0), (4127, 0.0), (4128, 0.13245323570650436), (4129, 0.04536092116265145), (4130, 0.041030496993110906), (4131, 0.08606629658238704), (4132, 0.04199605255658081), (4133, 0.0), (4134, 0.033501260508640406), (4135, 0.03928371006591931), (4136, 0.0), (4137, 0.0), (4138, 0.0), (4139, 0.0), (4140, 0.0), (4141, 0.0), (4142, 0.0), (4143, 0.09938079899999065), (4144, 0.0), (4145, 0.041030496993110906), (4146, 0.140028008402801), (4147, 0.051434449987363975), (4148, 0.0), (4149, 0.04667600280093366), (4150, 0.0), (4151, 0.0), (4152, 0.03849001794597506), (4153, 0.0), (4154, 0.0), (4155, 0.12598815766974242), (4156, 0.08606629658238704), (4157, 0.0), (4158, 0.04415107856883479), (4159, 0.0), (4160, 0.19245008972987526), (4161, 0.051434449987363975), (4162, 0.036369648372665396), (4163, 0.0), (4164, 0.0), (4165, 0.0), (4166, 0.0), (4167, 0.03703703703703704), (4168, 0.0), (4169, 0.0), (4170, 0.0), (4171, 0.03573708449459316), (4172, 0.0), (4173, 0.07407407407407408), (4174, 0.0), (4175, 0.07856742013183862), (4176, 0.13245323570650436), (4177, 0.0), (4178, 0.0), (4179, 0.0), (4180, 0.0), (4181, 0.04536092116265145), (4182, 0.07407407407407408), (4183, 0.0), (4184, 0.0), (4185, 0.0), (4186, 0.0), (4187, 0.13608276348795437), (4188, 0.049690399499995326), (4189, 0.04199605255658081), (4190, 0.041030496993110906), (4191, 0.04199605255658081), (4192, 0.0), (4193, 0.12598815766974242), (4194, 0.0), (4195, 0.0), (4196, 0.0), (4197, 0.0), (4198, 0.0), (4199, 0.048112522432468816), (4200, 0.04415107856883479), (4201, 0.041030496993110906), (4202, 0.0), (4203, 0.049690399499995326), (4204, 0.0), (4205, 0.0), (4206, 0.0), (4207, 0.048112522432468816), (4208, 0.0), (4209, 0.0), (4210, 0.0), (4211, 0.0), (4212, 0.0), (4213, 0.0), (4214, 0.0), (4215, 0.03573708449459316), (4216, 0.04415107856883479), (4217, 0.0), (4218, 0.0), (4219, 0.0), (4220, 0.03513641844631533), (4221, 0.0), (4222, 0.0), (4223, 0.0), (4224, 0.04303314829119352), (4225, 0.12038585308576921), (4226, 0.0), (4227, 0.0), (4228, 0.0), (4229, 0.0), (4230, 0.040128617695256406), (4231, 0.04199605255658081), (4232, 0.040128617695256406), (4233, 0.10675210253672476), (4234, 0.04199605255658081), (4235, 0.0), (4236, 0.0), (4237, 0.0), (4238, 0.0), (4239, 0.0), (4240, 0.0), (4241, 0.0), (4242, 0.0), (4243, 0.0), (4244, 0.04303314829119352), (4245, 0.12038585308576921), (4246, 0.08830215713766958), (4247, 0.0), (4248, 0.0), (4249, 0.036369648372665396), (4250, 0.0), (4251, 0.12909944487358055), (4252, 0.055555555555555566), (4253, 0.0), (4254, 0.08830215713766958), (4255, 0.0), (4256, 0.04667600280093366), (4257, 0.0), (4258, 0.049690399499995326), (4259, 0.040128617695256406), (4260, 0.0), (4261, 0.04415107856883479), (4262, 0.048112522432468816), (4263, 0.03928371006591931), (4264, 0.041030496993110906), (4265, 0.0), (4266, 0.048112522432468816), (4267, 0.11547005383792516), (4268, 0.0), (4269, 0.11111111111111113), (4270, 0.0), (4271, 0.0), (4272, 0.0), (4273, 0.0), (4274, 0.0907218423253029), (4275, 0.04667600280093366), (4276, 0.0907218423253029), (4277, 0.049690399499995326), (4278, 0.0), (4279, 0.048112522432468816), (4280, 0.0), (4281, 0.0), (4282, 0.0), (4283, 0.0), (4284, 0.08399210511316162), (4285, 0.0), (4286, 0.041030496993110906), (4287, 0.0), (4288, 0.0), (4289, 0.048112522432468816), (4290, 0.04303314829119352), (4291, 0.040128617695256406), (4292, 0.0), (4293, 0.0), (4294, 0.0), (4295, 0.0), (4296, 0.0), (4297, 0.0), (4298, 0.04415107856883479), (4299, 0.049690399499995326), (4300, 0.0), (4301, 0.09622504486493763), (4302, 0.0), (4303, 0.0), (4304, 0.0), (4305, 0.0), (4306, 0.0), (4307, 0.055555555555555566), (4308, 0.0), (4309, 0.0), (4310, 0.040128617695256406), (4311, 0.0), (4312, 0.12038585308576921), (4313, 0.0), (4314, 0.0), (4315, 0.09335200560186732), (4316, 0.09622504486493763), (4317, 0.0), (4318, 0.0), (4319, 0.0), (4320, 0.0), (4321, 0.08606629658238704), (4322, 0.0), (4323, 0.0), (4324, 0.04415107856883479), (4325, 0.12309149097933272), (4326, 0.03849001794597506), (4327, 0.14814814814814817), (4328, 0.0), (4329, 0.0), (4330, 0.0), (4331, 0.0), (4332, 0.2694301256218254), (4333, 0.0), (4334, 0.0), (4335, 0.041030496993110906), (4336, 0.0), (4337, 0.0), (4338, 0.0), (4339, 0.08025723539051281), (4340, 0.0), (4341, 0.0), (4342, 0.0), (4343, 0.0), (4344, 0.15713484026367724), (4345, 0.04415107856883479), (4346, 0.0), (4347, 0.0), (4348, 0.0), (4349, 0.08399210511316162), (4350, 0.0), (4351, 0.08399210511316162), (4352, 0.0), (4353, 0.08025723539051281), (4354, 0.0), (4355, 0.0), (4356, 0.0), (4357, 0.0), (4358, 0.0), (4359, 0.0), (4360, 0.0), (4361, 0.04536092116265145), (4362, 0.0), (4363, 0.0), (4364, 0.040128617695256406), (4365, 0.0), (4366, 0.0), (4367, 0.0), (4368, 0.04199605255658081), (4369, 0.0), (4370, 0.0), (4371, 0.0), (4372, 0.0), (4373, 0.0), (4374, 0.0), (4375, 0.0), (4376, 0.07856742013183862), (4377, 0.0), (4378, 0.03513641844631533), (4379, 0.08206099398622181), (4380, 0.04199605255658081), (4381, 0.048112522432468816), (4382, 0.0), (4383, 0.0), (4384, 0.0), (4385, 0.0), (4386, 0.04667600280093366), (4387, 0.09335200560186732), (4388, 0.04199605255658081), (4389, 0.0), (4390, 0.0), (4391, 0.0), (4392, 0.040128617695256406), (4393, 0.0), (4394, 0.07698003589195011), (4395, 0.09622504486493763), (4396, 0.0), (4397, 0.0), (4398, 0.07856742013183862), (4399, 0.12909944487358055), (4400, 0.0), (4401, 0.28867513459481287), (4402, 0.040128617695256406), (4403, 0.0), (4404, 0.0), (4405, 0.0), (4406, 0.04303314829119352), (4407, 0.04303314829119352), (4408, 0.04199605255658081), (4409, 0.0), (4410, 0.0), (4411, 0.0), (4412, 0.0), (4413, 0.055555555555555566), (4414, 0.0), (4415, 0.0), (4416, 0.0), (4417, 0.0), (4418, 0.0), (4419, 0.0), (4420, 0.0), (4421, 0.0), (4422, 0.0), (4423, 0.07856742013183862), (4424, 0.0), (4425, 0.12598815766974242), (4426, 0.0), (4427, 0.08399210511316162), (4428, 0.0), (4429, 0.0), (4430, 0.0), (4431, 0.0), (4432, 0.0), (4433, 0.0), (4434, 0.0), (4435, 0.0), (4436, 0.0), (4437, 0.0), (4438, 0.0), (4439, 0.0), (4440, 0.07407407407407408), (4441, 0.0), (4442, 0.0), (4443, 0.0), (4444, 0.0), (4445, 0.0), (4446, 0.0), (4447, 0.0), (4448, 0.07548513560963972), (4449, 0.04667600280093366), (4450, 0.19245008972987526), (4451, 0.0), (4452, 0.0), (4453, 0.036369648372665396), (4454, 0.0), (4455, 0.0), (4456, 0.0), (4457, 0.0), (4458, 0.0), (4459, 0.0), (4460, 0.04303314829119352), (4461, 0.0), (4462, 0.0), (4463, 0.040128617695256406), (4464, 0.0), (4465, 0.15097027121927944), (4466, 0.09938079899999065), (4467, 0.0), (4468, 0.0), (4469, 0.0), (4470, 0.08830215713766958), (4471, 0.0), (4472, 0.0), (4473, 0.0), (4474, 0.0), (4475, 0.0), (4476, 0.0), (4477, 0.0), (4478, 0.0), (4479, 0.0), (4480, 0.08830215713766958), (4481, 0.0), (4482, 0.049690399499995326), (4483, 0.0), (4484, 0.0), (4485, 0.0), (4486, 0.0), (4487, 0.14814814814814817), (4488, 0.0), (4489, 0.09938079899999065), (4490, 0.0), (4491, 0.0), (4492, 0.0), (4493, 0.0), (4494, 0.0), (4495, 0.0), (4496, 0.0), (4497, 0.0), (4498, 0.0), (4499, 0.09622504486493763), (4500, 0.0), (4501, 0.05337605126836238), (4502, 0.0), (4503, 0.0), (4504, 0.0), (4505, 0.0), (4506, 0.0), (4507, 0.07856742013183862), (4508, 0.0), (4509, 0.040128617695256406), (4510, 0.0), (4511, 0.08606629658238704), (4512, 0.0), (4513, 0.04199605255658081), (4514, 0.0), (4515, 0.0), (4516, 0.08025723539051281), (4517, 0.0), (4518, 0.041030496993110906), (4519, 0.0), (4520, 0.0), (4521, 0.0), (4522, 0.0), (4523, 0.0), (4524, 0.0), (4525, 0.0), (4526, 0.0), (4527, 0.0), (4528, 0.0), (4529, 0.0), (4530, 0.0), (4531, 0.0), (4532, 0.0), (4533, 0.0), (4534, 0.0), (4535, 0.04303314829119352), (4536, 0.0), (4537, 0.0), (4538, 0.04415107856883479), (4539, 0.08606629658238704), (4540, 0.0), (4541, 0.0), (4542, 0.08399210511316162), (4543, 0.0), (4544, 0.0), (4545, 0.0), (4546, 0.048112522432468816), (4547, 0.04667600280093366), (4548, 0.0), (4549, 0.040128617695256406), (4550, 0.0), (4551, 0.0), (4552, 0.0), (4553, 0.0), (4554, 0.04536092116265145), (4555, 0.07147416898918632), (4556, 0.0), (4557, 0.048112522432468816), (4558, 0.0), (4559, 0.0), (4560, 0.0), (4561, 0.0), (4562, 0.0), (4563, 0.11547005383792516), (4564, 0.0), (4565, 0.12309149097933272), (4566, 0.0), (4567, 0.0), (4568, 0.0), (4569, 0.0), (4570, 0.0), (4571, 0.0), (4572, 0.0), (4573, 0.0), (4574, 0.0), (4575, 0.0), (4576, 0.0), (4577, 0.0), (4578, 0.0), (4579, 0.07027283689263066), (4580, 0.0), (4581, 0.0), (4582, 0.0), (4583, 0.0), (4584, 0.0), (4585, 0.0), (4586, 0.040128617695256406), (4587, 0.08206099398622181), (4588, 0.08206099398622181), (4589, 0.0), (4590, 0.049690399499995326), (4591, 0.0), (4592, 0.04667600280093366), (4593, 0.264197974633739), (4594, 0.0), (4595, 0.041030496993110906), (4596, 0.04536092116265145), (4597, 0.0), (4598, 0.0), (4599, 0.17660431427533915), (4600, 0.0), (4601, 0.09335200560186732), (4602, 0.0), (4603, 0.0), (4604, 0.0), (4605, 0.0), (4606, 0.0), (4607, 0.0), (4608, 0.04415107856883479), (4609, 0.0), (4610, 0.0), (4611, 0.0), (4612, 0.0), (4613, 0.04536092116265145), (4614, 0.0), (4615, 0.0), (4616, 0.0), (4617, 0.0), (4618, 0.0), (4619, 0.0), (4620, 0.08206099398622181), (4621, 0.04415107856883479), (4622, 0.0), (4623, 0.12598815766974242), (4624, 0.0), (4625, 0.0), (4626, 0.0), (4627, 0.051434449987363975), (4628, 0.0), (4629, 0.0), (4630, 0.049690399499995326), (4631, 0.0), (4632, 0.04536092116265145), (4633, 0.0), (4634, 0.0), (4635, 0.0), (4636, 0.0), (4637, 0.08025723539051281), (4638, 0.11111111111111113), (4639, 0.08025723539051281), (4640, 0.0), (4641, 0.0), (4642, 0.03774256780481986), (4643, 0.0), (4644, 0.05802588531856595), (4645, 0.0), (4646, 0.0), (4647, 0.04199605255658081), (4648, 0.0), (4649, 0.0), (4650, 0.0), (4651, 0.16798421022632323), (4652, 0.0), (4653, 0.0), (4654, 0.08830215713766958), (4655, 0.0), (4656, 0.0), (4657, 0.0), (4658, 0.0), (4659, 0.0), (4660, 0.0), (4661, 0.07407407407407408), (4662, 0.0), (4663, 0.0), (4664, 0.0907218423253029), (4665, 0.048112522432468816), (4666, 0.0), (4667, 0.0), (4668, 0.0), (4669, 0.11785113019775793), (4670, 0.15713484026367724), (4671, 0.0), (4672, 0.03573708449459316), (4673, 0.0), (4674, 0.0), (4675, 0.0), (4676, 0.0), (4677, 0.04536092116265145), (4678, 0.04667600280093366), (4679, 0.0), (4680, 0.0), (4681, 0.0), (4682, 0.0), (4683, 0.0), (4684, 0.0), (4685, 0.0), (4686, 0.0), (4687, 0.0), (4688, 0.08399210511316162), (4689, 0.0), (4690, 0.0), (4691, 0.13245323570650436), (4692, 0.0), (4693, 0.09622504486493763), (4694, 0.049690399499995326), (4695, 0.0), (4696, 0.0), (4697, 0.0), (4698, 0.0), (4699, 0.0), (4700, 0.08399210511316162), (4701, 0.029695693545824933), (4702, 0.0), (4703, 0.09335200560186732), (4704, 0.0), (4705, 0.0), (4706, 0.0), (4707, 0.0), (4708, 0.05802588531856595), (4709, 0.0), (4710, 0.0), (4711, 0.0), (4712, 0.0), (4713, 0.0), (4714, 0.0), (4715, 0.07856742013183862), (4716, 0.0), (4717, 0.0), (4718, 0.0), (4719, 0.0), (4720, 0.0), (4721, 0.0), (4722, 0.04303314829119352), (4723, 0.0), (4724, 0.11785113019775793), (4725, 0.0), (4726, 0.0), (4727, 0.04415107856883479), (4728, 0.11547005383792516), (4729, 0.05337605126836238), (4730, 0.0), (4731, 0.0), (4732, 0.0), (4733, 0.0), (4734, 0.140028008402801), (4735, 0.0), (4736, 0.0), (4737, 0.0), (4738, 0.0), (4739, 0.0), (4740, 0.0), (4741, 0.140028008402801), (4742, 0.033501260508640406), (4743, 0.0), (4744, 0.0), (4745, 0.08399210511316162), (4746, 0.0), (4747, 0.0), (4748, 0.0), (4749, 0.0), (4750, 0.0), (4751, 0.0), (4752, 0.0), (4753, 0.0), (4754, 0.0), (4755, 0.0), (4756, 0.04303314829119352), (4757, 0.0), (4758, 0.08025723539051281), (4759, 0.0), (4760, 0.05337605126836238), (4761, 0.04667600280093366), (4762, 0.0), (4763, 0.0), (4764, 0.09622504486493763), (4765, 0.0), (4766, 0.0), (4767, 0.0), (4768, 0.04667600280093366), (4769, 0.055555555555555566), (4770, 0.0), (4771, 0.05337605126836238), (4772, 0.03928371006591931), (4773, 0.0), (4774, 0.055555555555555566), (4775, 0.0), (4776, 0.0), (4777, 0.0), (4778, 0.04199605255658081), (4779, 0.048112522432468816), (4780, 0.0), (4781, 0.0), (4782, 0.0), (4783, 0.09938079899999065), (4784, 0.0), (4785, 0.0), (4786, 0.04199605255658081), (4787, 0.12909944487358055), (4788, 0.040128617695256406), (4789, 0.0), (4790, 0.0), (4791, 0.0), (4792, 0.0), (4793, 0.0), (4794, 0.0), (4795, 0.0), (4796, 0.07027283689263066), (4797, 0.0), (4798, 0.07548513560963972), (4799, 0.0), (4800, 0.0), (4801, 0.0), (4802, 0.0)]\n"
     ]
    }
   ],
   "source": [
    "movie_user_likes=\"Avatar\"# This is the movie liked by the user now we have to recommend new movies similar to Avatar in this case\n",
    "movie_index=get_indec_from_title(movie_user_likes)\n",
    "print(list(enumerate(cosine_sim[movie_index])))# here enumerate functions give the tupple of the form (index, value)\n",
    "similar_movies=list(enumerate(cosine_sim[movie_index]))"
   ]
  },
  {
   "cell_type": "markdown",
   "metadata": {},
   "source": [
    "Based on the movie liked by the user the model recommends 5 similar movies to the user."
   ]
  },
  {
   "cell_type": "markdown",
   "metadata": {},
   "source": [
    "Now comes the most vital point. We will sort the list similar_movies according to similarity scores in descending order. Since the most similar movie to a given movie will be itself, we will discard the first element after sorting the movies."
   ]
  },
  {
   "cell_type": "code",
   "execution_count": 17,
   "metadata": {},
   "outputs": [],
   "source": [
    "sorted_similar_movies = sorted(similar_movies,key=lambda x:x[1],reverse=True)[1:]"
   ]
  },
  {
   "cell_type": "markdown",
   "metadata": {},
   "source": [
    "Now, we will run a loop to print first 5 entries from sorted_similar_movies list."
   ]
  },
  {
   "cell_type": "code",
   "execution_count": 18,
   "metadata": {},
   "outputs": [
    {
     "name": "stdout",
     "output_type": "stream",
     "text": [
      "Top 5 similar movies to Avatar are:\n",
      "\n",
      "Guardians of the Galaxy\n",
      "Aliens\n",
      "Star Wars: Clone Wars: Volume 1\n",
      "Star Trek Into Darkness\n",
      "Star Trek Beyond\n",
      "Alien\n"
     ]
    }
   ],
   "source": [
    "i=0\n",
    "print(\"Top 5 similar movies to \"+movie_user_likes+\" are:\\n\")\n",
    "for element in sorted_similar_movies:\n",
    "    print(get_title_from_index(element[0]))\n",
    "    i=i+1\n",
    "    if i>5:\n",
    "        break"
   ]
  },
  {
   "cell_type": "code",
   "execution_count": null,
   "metadata": {},
   "outputs": [],
   "source": []
  }
 ],
 "metadata": {
  "kernelspec": {
   "display_name": "Python [conda env:root] *",
   "language": "python",
   "name": "conda-root-py"
  },
  "language_info": {
   "codemirror_mode": {
    "name": "ipython",
    "version": 3
   },
   "file_extension": ".py",
   "mimetype": "text/x-python",
   "name": "python",
   "nbconvert_exporter": "python",
   "pygments_lexer": "ipython3",
   "version": "3.8.3"
  }
 },
 "nbformat": 4,
 "nbformat_minor": 4
}
